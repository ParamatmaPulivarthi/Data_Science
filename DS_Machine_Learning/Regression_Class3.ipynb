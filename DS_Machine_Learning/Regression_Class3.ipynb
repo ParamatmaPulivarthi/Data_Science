{
 "cells": [
  {
   "cell_type": "code",
   "execution_count": 2,
   "metadata": {},
   "outputs": [],
   "source": [
    "import random\n",
    "import pandas as pd\n",
    "import numpy as np\n",
    "import matplotlib.pyplot as plt"
   ]
  },
  {
   "cell_type": "markdown",
   "metadata": {},
   "source": [
    "Central Limit Theorem\n",
    "\n",
    "The sample means of the population follow the normal distribution(approximately) \n"
   ]
  },
  {
   "cell_type": "code",
   "execution_count": 3,
   "metadata": {},
   "outputs": [
    {
     "name": "stdout",
     "output_type": "stream",
     "text": [
      "[111, 198, 113, 198, 134, 120, 156, 168, 177, 147, 164, 115, 162, 146, 130, 126, 105, 104, 134, 146, 132, 156, 101, 139, 162, 178, 172, 125, 196, 168, 170, 137, 183, 147, 192, 143, 151, 112, 167, 177, 144, 149, 112, 130, 124, 171, 134, 195, 121, 114, 122, 136, 174, 166, 166, 153, 141, 148, 137, 137, 168, 119, 148, 131, 136, 121, 109, 180, 110, 134, 186, 161, 171, 131, 147, 175, 111, 185, 142, 171, 110, 137, 122, 118, 175, 101, 127, 189, 111, 191, 182, 143, 173, 115, 131, 141, 150, 162, 195, 143, 106, 184, 146, 117, 181, 134, 170, 151, 158, 179, 196, 141, 154, 112, 112, 148, 120, 117, 196, 169, 183, 189, 190, 147, 169, 149, 123, 152, 164, 110, 170, 153, 184, 103, 101, 122, 191, 135, 181, 104, 134, 124, 152, 174, 115, 185, 136, 186, 113, 187, 104, 123, 102, 108, 121, 157, 163, 176, 151, 105, 125, 154, 140, 107, 124, 112, 175, 148, 182, 175, 186, 106, 101, 123, 101, 176, 149, 123, 122, 112, 108, 187, 161, 107, 124, 139, 193, 107, 156, 165, 197, 200, 114, 117, 174, 135, 166, 110, 169, 109]\n"
     ]
    }
   ],
   "source": [
    "randomlist = []\n",
    "for i in range(0,200):\n",
    "    n = random.randint(101,200)\n",
    "    randomlist.append(n)\n",
    "print(randomlist)"
   ]
  },
  {
   "cell_type": "code",
   "execution_count": 11,
   "metadata": {},
   "outputs": [],
   "source": [
    "lst=[]\n",
    "n=60\n",
    "for i in range(20):\n",
    "    lst.append(random.sample(randomlist, n))\n",
    "df_samples=pd.DataFrame(lst)"
   ]
  },
  {
   "cell_type": "code",
   "execution_count": 12,
   "metadata": {},
   "outputs": [
    {
     "data": {
      "text/html": [
       "<div>\n",
       "<style scoped>\n",
       "    .dataframe tbody tr th:only-of-type {\n",
       "        vertical-align: middle;\n",
       "    }\n",
       "\n",
       "    .dataframe tbody tr th {\n",
       "        vertical-align: top;\n",
       "    }\n",
       "\n",
       "    .dataframe thead th {\n",
       "        text-align: right;\n",
       "    }\n",
       "</style>\n",
       "<table border=\"1\" class=\"dataframe\">\n",
       "  <thead>\n",
       "    <tr style=\"text-align: right;\">\n",
       "      <th></th>\n",
       "      <th>0</th>\n",
       "      <th>1</th>\n",
       "      <th>2</th>\n",
       "      <th>3</th>\n",
       "      <th>4</th>\n",
       "      <th>5</th>\n",
       "      <th>6</th>\n",
       "      <th>7</th>\n",
       "      <th>8</th>\n",
       "      <th>9</th>\n",
       "      <th>...</th>\n",
       "      <th>50</th>\n",
       "      <th>51</th>\n",
       "      <th>52</th>\n",
       "      <th>53</th>\n",
       "      <th>54</th>\n",
       "      <th>55</th>\n",
       "      <th>56</th>\n",
       "      <th>57</th>\n",
       "      <th>58</th>\n",
       "      <th>59</th>\n",
       "    </tr>\n",
       "  </thead>\n",
       "  <tbody>\n",
       "    <tr>\n",
       "      <th>0</th>\n",
       "      <td>147</td>\n",
       "      <td>109</td>\n",
       "      <td>101</td>\n",
       "      <td>110</td>\n",
       "      <td>151</td>\n",
       "      <td>176</td>\n",
       "      <td>141</td>\n",
       "      <td>139</td>\n",
       "      <td>110</td>\n",
       "      <td>113</td>\n",
       "      <td>...</td>\n",
       "      <td>179</td>\n",
       "      <td>170</td>\n",
       "      <td>137</td>\n",
       "      <td>107</td>\n",
       "      <td>137</td>\n",
       "      <td>146</td>\n",
       "      <td>141</td>\n",
       "      <td>124</td>\n",
       "      <td>117</td>\n",
       "      <td>183</td>\n",
       "    </tr>\n",
       "    <tr>\n",
       "      <th>1</th>\n",
       "      <td>139</td>\n",
       "      <td>130</td>\n",
       "      <td>166</td>\n",
       "      <td>134</td>\n",
       "      <td>196</td>\n",
       "      <td>198</td>\n",
       "      <td>157</td>\n",
       "      <td>141</td>\n",
       "      <td>115</td>\n",
       "      <td>180</td>\n",
       "      <td>...</td>\n",
       "      <td>124</td>\n",
       "      <td>122</td>\n",
       "      <td>148</td>\n",
       "      <td>117</td>\n",
       "      <td>166</td>\n",
       "      <td>147</td>\n",
       "      <td>123</td>\n",
       "      <td>127</td>\n",
       "      <td>124</td>\n",
       "      <td>174</td>\n",
       "    </tr>\n",
       "    <tr>\n",
       "      <th>2</th>\n",
       "      <td>171</td>\n",
       "      <td>175</td>\n",
       "      <td>180</td>\n",
       "      <td>108</td>\n",
       "      <td>186</td>\n",
       "      <td>196</td>\n",
       "      <td>156</td>\n",
       "      <td>106</td>\n",
       "      <td>114</td>\n",
       "      <td>131</td>\n",
       "      <td>...</td>\n",
       "      <td>110</td>\n",
       "      <td>126</td>\n",
       "      <td>112</td>\n",
       "      <td>124</td>\n",
       "      <td>150</td>\n",
       "      <td>136</td>\n",
       "      <td>167</td>\n",
       "      <td>122</td>\n",
       "      <td>101</td>\n",
       "      <td>166</td>\n",
       "    </tr>\n",
       "    <tr>\n",
       "      <th>3</th>\n",
       "      <td>146</td>\n",
       "      <td>181</td>\n",
       "      <td>122</td>\n",
       "      <td>168</td>\n",
       "      <td>164</td>\n",
       "      <td>148</td>\n",
       "      <td>174</td>\n",
       "      <td>168</td>\n",
       "      <td>115</td>\n",
       "      <td>141</td>\n",
       "      <td>...</td>\n",
       "      <td>151</td>\n",
       "      <td>186</td>\n",
       "      <td>172</td>\n",
       "      <td>162</td>\n",
       "      <td>134</td>\n",
       "      <td>131</td>\n",
       "      <td>124</td>\n",
       "      <td>175</td>\n",
       "      <td>115</td>\n",
       "      <td>176</td>\n",
       "    </tr>\n",
       "    <tr>\n",
       "      <th>4</th>\n",
       "      <td>134</td>\n",
       "      <td>137</td>\n",
       "      <td>198</td>\n",
       "      <td>169</td>\n",
       "      <td>125</td>\n",
       "      <td>117</td>\n",
       "      <td>176</td>\n",
       "      <td>152</td>\n",
       "      <td>112</td>\n",
       "      <td>101</td>\n",
       "      <td>...</td>\n",
       "      <td>195</td>\n",
       "      <td>137</td>\n",
       "      <td>150</td>\n",
       "      <td>174</td>\n",
       "      <td>114</td>\n",
       "      <td>124</td>\n",
       "      <td>151</td>\n",
       "      <td>157</td>\n",
       "      <td>179</td>\n",
       "      <td>168</td>\n",
       "    </tr>\n",
       "    <tr>\n",
       "      <th>5</th>\n",
       "      <td>121</td>\n",
       "      <td>115</td>\n",
       "      <td>167</td>\n",
       "      <td>174</td>\n",
       "      <td>143</td>\n",
       "      <td>140</td>\n",
       "      <td>137</td>\n",
       "      <td>144</td>\n",
       "      <td>151</td>\n",
       "      <td>146</td>\n",
       "      <td>...</td>\n",
       "      <td>184</td>\n",
       "      <td>172</td>\n",
       "      <td>110</td>\n",
       "      <td>197</td>\n",
       "      <td>108</td>\n",
       "      <td>165</td>\n",
       "      <td>164</td>\n",
       "      <td>125</td>\n",
       "      <td>131</td>\n",
       "      <td>193</td>\n",
       "    </tr>\n",
       "    <tr>\n",
       "      <th>6</th>\n",
       "      <td>123</td>\n",
       "      <td>104</td>\n",
       "      <td>171</td>\n",
       "      <td>139</td>\n",
       "      <td>185</td>\n",
       "      <td>170</td>\n",
       "      <td>186</td>\n",
       "      <td>126</td>\n",
       "      <td>168</td>\n",
       "      <td>143</td>\n",
       "      <td>...</td>\n",
       "      <td>109</td>\n",
       "      <td>182</td>\n",
       "      <td>156</td>\n",
       "      <td>186</td>\n",
       "      <td>152</td>\n",
       "      <td>102</td>\n",
       "      <td>137</td>\n",
       "      <td>106</td>\n",
       "      <td>109</td>\n",
       "      <td>173</td>\n",
       "    </tr>\n",
       "    <tr>\n",
       "      <th>7</th>\n",
       "      <td>200</td>\n",
       "      <td>183</td>\n",
       "      <td>121</td>\n",
       "      <td>104</td>\n",
       "      <td>174</td>\n",
       "      <td>132</td>\n",
       "      <td>169</td>\n",
       "      <td>112</td>\n",
       "      <td>156</td>\n",
       "      <td>101</td>\n",
       "      <td>...</td>\n",
       "      <td>112</td>\n",
       "      <td>150</td>\n",
       "      <td>115</td>\n",
       "      <td>120</td>\n",
       "      <td>187</td>\n",
       "      <td>151</td>\n",
       "      <td>197</td>\n",
       "      <td>171</td>\n",
       "      <td>158</td>\n",
       "      <td>152</td>\n",
       "    </tr>\n",
       "    <tr>\n",
       "      <th>8</th>\n",
       "      <td>168</td>\n",
       "      <td>123</td>\n",
       "      <td>105</td>\n",
       "      <td>111</td>\n",
       "      <td>198</td>\n",
       "      <td>142</td>\n",
       "      <td>137</td>\n",
       "      <td>137</td>\n",
       "      <td>173</td>\n",
       "      <td>110</td>\n",
       "      <td>...</td>\n",
       "      <td>101</td>\n",
       "      <td>144</td>\n",
       "      <td>126</td>\n",
       "      <td>184</td>\n",
       "      <td>102</td>\n",
       "      <td>184</td>\n",
       "      <td>168</td>\n",
       "      <td>175</td>\n",
       "      <td>189</td>\n",
       "      <td>154</td>\n",
       "    </tr>\n",
       "    <tr>\n",
       "      <th>9</th>\n",
       "      <td>117</td>\n",
       "      <td>153</td>\n",
       "      <td>134</td>\n",
       "      <td>109</td>\n",
       "      <td>193</td>\n",
       "      <td>171</td>\n",
       "      <td>163</td>\n",
       "      <td>179</td>\n",
       "      <td>126</td>\n",
       "      <td>134</td>\n",
       "      <td>...</td>\n",
       "      <td>115</td>\n",
       "      <td>178</td>\n",
       "      <td>136</td>\n",
       "      <td>186</td>\n",
       "      <td>161</td>\n",
       "      <td>191</td>\n",
       "      <td>148</td>\n",
       "      <td>123</td>\n",
       "      <td>151</td>\n",
       "      <td>141</td>\n",
       "    </tr>\n",
       "    <tr>\n",
       "      <th>10</th>\n",
       "      <td>114</td>\n",
       "      <td>164</td>\n",
       "      <td>121</td>\n",
       "      <td>122</td>\n",
       "      <td>110</td>\n",
       "      <td>117</td>\n",
       "      <td>158</td>\n",
       "      <td>169</td>\n",
       "      <td>190</td>\n",
       "      <td>196</td>\n",
       "      <td>...</td>\n",
       "      <td>121</td>\n",
       "      <td>193</td>\n",
       "      <td>156</td>\n",
       "      <td>101</td>\n",
       "      <td>115</td>\n",
       "      <td>101</td>\n",
       "      <td>200</td>\n",
       "      <td>175</td>\n",
       "      <td>176</td>\n",
       "      <td>166</td>\n",
       "    </tr>\n",
       "    <tr>\n",
       "      <th>11</th>\n",
       "      <td>196</td>\n",
       "      <td>147</td>\n",
       "      <td>141</td>\n",
       "      <td>153</td>\n",
       "      <td>115</td>\n",
       "      <td>110</td>\n",
       "      <td>152</td>\n",
       "      <td>102</td>\n",
       "      <td>112</td>\n",
       "      <td>140</td>\n",
       "      <td>...</td>\n",
       "      <td>168</td>\n",
       "      <td>156</td>\n",
       "      <td>177</td>\n",
       "      <td>123</td>\n",
       "      <td>103</td>\n",
       "      <td>143</td>\n",
       "      <td>132</td>\n",
       "      <td>126</td>\n",
       "      <td>156</td>\n",
       "      <td>147</td>\n",
       "    </tr>\n",
       "    <tr>\n",
       "      <th>12</th>\n",
       "      <td>121</td>\n",
       "      <td>124</td>\n",
       "      <td>107</td>\n",
       "      <td>110</td>\n",
       "      <td>148</td>\n",
       "      <td>171</td>\n",
       "      <td>104</td>\n",
       "      <td>168</td>\n",
       "      <td>186</td>\n",
       "      <td>156</td>\n",
       "      <td>...</td>\n",
       "      <td>102</td>\n",
       "      <td>171</td>\n",
       "      <td>158</td>\n",
       "      <td>101</td>\n",
       "      <td>135</td>\n",
       "      <td>149</td>\n",
       "      <td>153</td>\n",
       "      <td>153</td>\n",
       "      <td>152</td>\n",
       "      <td>167</td>\n",
       "    </tr>\n",
       "    <tr>\n",
       "      <th>13</th>\n",
       "      <td>186</td>\n",
       "      <td>184</td>\n",
       "      <td>187</td>\n",
       "      <td>111</td>\n",
       "      <td>107</td>\n",
       "      <td>162</td>\n",
       "      <td>190</td>\n",
       "      <td>151</td>\n",
       "      <td>106</td>\n",
       "      <td>137</td>\n",
       "      <td>...</td>\n",
       "      <td>168</td>\n",
       "      <td>178</td>\n",
       "      <td>102</td>\n",
       "      <td>182</td>\n",
       "      <td>143</td>\n",
       "      <td>107</td>\n",
       "      <td>168</td>\n",
       "      <td>192</td>\n",
       "      <td>170</td>\n",
       "      <td>197</td>\n",
       "    </tr>\n",
       "    <tr>\n",
       "      <th>14</th>\n",
       "      <td>109</td>\n",
       "      <td>177</td>\n",
       "      <td>184</td>\n",
       "      <td>102</td>\n",
       "      <td>112</td>\n",
       "      <td>176</td>\n",
       "      <td>106</td>\n",
       "      <td>124</td>\n",
       "      <td>115</td>\n",
       "      <td>114</td>\n",
       "      <td>...</td>\n",
       "      <td>156</td>\n",
       "      <td>137</td>\n",
       "      <td>154</td>\n",
       "      <td>136</td>\n",
       "      <td>119</td>\n",
       "      <td>174</td>\n",
       "      <td>153</td>\n",
       "      <td>198</td>\n",
       "      <td>166</td>\n",
       "      <td>106</td>\n",
       "    </tr>\n",
       "    <tr>\n",
       "      <th>15</th>\n",
       "      <td>113</td>\n",
       "      <td>186</td>\n",
       "      <td>156</td>\n",
       "      <td>121</td>\n",
       "      <td>149</td>\n",
       "      <td>110</td>\n",
       "      <td>168</td>\n",
       "      <td>186</td>\n",
       "      <td>123</td>\n",
       "      <td>137</td>\n",
       "      <td>...</td>\n",
       "      <td>151</td>\n",
       "      <td>142</td>\n",
       "      <td>161</td>\n",
       "      <td>192</td>\n",
       "      <td>111</td>\n",
       "      <td>198</td>\n",
       "      <td>157</td>\n",
       "      <td>104</td>\n",
       "      <td>170</td>\n",
       "      <td>148</td>\n",
       "    </tr>\n",
       "    <tr>\n",
       "      <th>16</th>\n",
       "      <td>169</td>\n",
       "      <td>123</td>\n",
       "      <td>182</td>\n",
       "      <td>152</td>\n",
       "      <td>107</td>\n",
       "      <td>186</td>\n",
       "      <td>184</td>\n",
       "      <td>124</td>\n",
       "      <td>166</td>\n",
       "      <td>108</td>\n",
       "      <td>...</td>\n",
       "      <td>101</td>\n",
       "      <td>196</td>\n",
       "      <td>170</td>\n",
       "      <td>173</td>\n",
       "      <td>148</td>\n",
       "      <td>134</td>\n",
       "      <td>179</td>\n",
       "      <td>168</td>\n",
       "      <td>110</td>\n",
       "      <td>149</td>\n",
       "    </tr>\n",
       "    <tr>\n",
       "      <th>17</th>\n",
       "      <td>144</td>\n",
       "      <td>148</td>\n",
       "      <td>139</td>\n",
       "      <td>120</td>\n",
       "      <td>197</td>\n",
       "      <td>167</td>\n",
       "      <td>131</td>\n",
       "      <td>127</td>\n",
       "      <td>141</td>\n",
       "      <td>146</td>\n",
       "      <td>...</td>\n",
       "      <td>195</td>\n",
       "      <td>135</td>\n",
       "      <td>200</td>\n",
       "      <td>122</td>\n",
       "      <td>115</td>\n",
       "      <td>196</td>\n",
       "      <td>134</td>\n",
       "      <td>153</td>\n",
       "      <td>172</td>\n",
       "      <td>187</td>\n",
       "    </tr>\n",
       "    <tr>\n",
       "      <th>18</th>\n",
       "      <td>166</td>\n",
       "      <td>148</td>\n",
       "      <td>121</td>\n",
       "      <td>119</td>\n",
       "      <td>123</td>\n",
       "      <td>168</td>\n",
       "      <td>115</td>\n",
       "      <td>185</td>\n",
       "      <td>196</td>\n",
       "      <td>110</td>\n",
       "      <td>...</td>\n",
       "      <td>120</td>\n",
       "      <td>158</td>\n",
       "      <td>167</td>\n",
       "      <td>196</td>\n",
       "      <td>104</td>\n",
       "      <td>121</td>\n",
       "      <td>137</td>\n",
       "      <td>141</td>\n",
       "      <td>149</td>\n",
       "      <td>164</td>\n",
       "    </tr>\n",
       "    <tr>\n",
       "      <th>19</th>\n",
       "      <td>166</td>\n",
       "      <td>174</td>\n",
       "      <td>114</td>\n",
       "      <td>124</td>\n",
       "      <td>189</td>\n",
       "      <td>184</td>\n",
       "      <td>120</td>\n",
       "      <td>162</td>\n",
       "      <td>151</td>\n",
       "      <td>178</td>\n",
       "      <td>...</td>\n",
       "      <td>197</td>\n",
       "      <td>108</td>\n",
       "      <td>172</td>\n",
       "      <td>153</td>\n",
       "      <td>168</td>\n",
       "      <td>102</td>\n",
       "      <td>139</td>\n",
       "      <td>189</td>\n",
       "      <td>110</td>\n",
       "      <td>148</td>\n",
       "    </tr>\n",
       "  </tbody>\n",
       "</table>\n",
       "<p>20 rows × 60 columns</p>\n",
       "</div>"
      ],
      "text/plain": [
       "     0    1    2    3    4    5    6    7    8    9   ...   50   51   52   53  \\\n",
       "0   147  109  101  110  151  176  141  139  110  113  ...  179  170  137  107   \n",
       "1   139  130  166  134  196  198  157  141  115  180  ...  124  122  148  117   \n",
       "2   171  175  180  108  186  196  156  106  114  131  ...  110  126  112  124   \n",
       "3   146  181  122  168  164  148  174  168  115  141  ...  151  186  172  162   \n",
       "4   134  137  198  169  125  117  176  152  112  101  ...  195  137  150  174   \n",
       "5   121  115  167  174  143  140  137  144  151  146  ...  184  172  110  197   \n",
       "6   123  104  171  139  185  170  186  126  168  143  ...  109  182  156  186   \n",
       "7   200  183  121  104  174  132  169  112  156  101  ...  112  150  115  120   \n",
       "8   168  123  105  111  198  142  137  137  173  110  ...  101  144  126  184   \n",
       "9   117  153  134  109  193  171  163  179  126  134  ...  115  178  136  186   \n",
       "10  114  164  121  122  110  117  158  169  190  196  ...  121  193  156  101   \n",
       "11  196  147  141  153  115  110  152  102  112  140  ...  168  156  177  123   \n",
       "12  121  124  107  110  148  171  104  168  186  156  ...  102  171  158  101   \n",
       "13  186  184  187  111  107  162  190  151  106  137  ...  168  178  102  182   \n",
       "14  109  177  184  102  112  176  106  124  115  114  ...  156  137  154  136   \n",
       "15  113  186  156  121  149  110  168  186  123  137  ...  151  142  161  192   \n",
       "16  169  123  182  152  107  186  184  124  166  108  ...  101  196  170  173   \n",
       "17  144  148  139  120  197  167  131  127  141  146  ...  195  135  200  122   \n",
       "18  166  148  121  119  123  168  115  185  196  110  ...  120  158  167  196   \n",
       "19  166  174  114  124  189  184  120  162  151  178  ...  197  108  172  153   \n",
       "\n",
       "     54   55   56   57   58   59  \n",
       "0   137  146  141  124  117  183  \n",
       "1   166  147  123  127  124  174  \n",
       "2   150  136  167  122  101  166  \n",
       "3   134  131  124  175  115  176  \n",
       "4   114  124  151  157  179  168  \n",
       "5   108  165  164  125  131  193  \n",
       "6   152  102  137  106  109  173  \n",
       "7   187  151  197  171  158  152  \n",
       "8   102  184  168  175  189  154  \n",
       "9   161  191  148  123  151  141  \n",
       "10  115  101  200  175  176  166  \n",
       "11  103  143  132  126  156  147  \n",
       "12  135  149  153  153  152  167  \n",
       "13  143  107  168  192  170  197  \n",
       "14  119  174  153  198  166  106  \n",
       "15  111  198  157  104  170  148  \n",
       "16  148  134  179  168  110  149  \n",
       "17  115  196  134  153  172  187  \n",
       "18  104  121  137  141  149  164  \n",
       "19  168  102  139  189  110  148  \n",
       "\n",
       "[20 rows x 60 columns]"
      ]
     },
     "execution_count": 12,
     "metadata": {},
     "output_type": "execute_result"
    }
   ],
   "source": [
    "df_samples"
   ]
  },
  {
   "cell_type": "code",
   "execution_count": 13,
   "metadata": {},
   "outputs": [
    {
     "data": {
      "text/plain": [
       "array([[<matplotlib.axes._subplots.AxesSubplot object at 0x000001DB9A7E1438>]],\n",
       "      dtype=object)"
      ]
     },
     "execution_count": 13,
     "metadata": {},
     "output_type": "execute_result"
    },
    {
     "data": {
      "image/png": "[encoded data removed]",
      "text/plain": [
       "<Figure size 432x288 with 1 Axes>"
      ]
     },
     "metadata": {
      "needs_background": "light"
     },
     "output_type": "display_data"
    }
   ],
   "source": [
    "dd=df_samples.describe()\n",
    "dd.reset_index(inplace=True)\n",
    "df = dd.rename(columns = {'index':'statistic'})\n",
    "df_new=df[df.statistic=='mean']\n",
    "df_trans=df_new.T\n",
    "df_trans_new=df_trans[[1]][1:]\n",
    "df_trans_nn=df_trans_new[[1]].astype('int')\n",
    "df_trans_nn.hist()"
   ]
  },
  {
   "cell_type": "code",
   "execution_count": 14,
   "metadata": {},
   "outputs": [
    {
     "name": "stdout",
     "output_type": "stream",
     "text": [
      "****** Mean******** \n",
      " 1    146.233333\n",
      "dtype: float64 ******* Median ********\n",
      " 1    147.0\n",
      "dtype: float64 ******** Mode ******** \n",
      "      1\n",
      "0  145 ********* Skewness ********* \n",
      " 1   -0.255741\n",
      "dtype: float64 ******** Kurtosis ********* \n",
      " 1    0.631107\n",
      "dtype: float64\n"
     ]
    }
   ],
   "source": [
    "print(\"****** Mean******** \\n\",df_trans_nn.mean(),\"******* Median ********\\n\",df_trans_nn.median(),\"******** Mode ******** \\n\",df_trans_nn.mode(),\"********* Skewness ********* \\n\",df_trans_nn.skew(),\"******** Kurtosis ********* \\n\",df_trans_nn.kurt())"
   ]
  },
  {
   "cell_type": "markdown",
   "metadata": {},
   "source": [
    "#AIC is Akaike’s ‘A’ information criterion\n",
    "#AIC adjusts for the number of predictor variables\n",
    "#AIC and BIC are goodness-of-fit measures you can use to compare one model to another\n",
    "#Lower values indicate a more desirable model"
   ]
  },
  {
   "cell_type": "markdown",
   "metadata": {},
   "source": [
    "# Regression"
   ]
  },
  {
   "cell_type": "code",
   "execution_count": 15,
   "metadata": {},
   "outputs": [],
   "source": [
    "#importing the data\n",
    "df_temp=pd.read_csv(r\"C:\\Paramatma_Pulivarthi\\Data_Science_course\\weatherHistory.csv\")"
   ]
  },
  {
   "cell_type": "code",
   "execution_count": 17,
   "metadata": {},
   "outputs": [
    {
     "name": "stdout",
     "output_type": "stream",
     "text": [
      "************* Observation of the Data   *************\n",
      "<class 'pandas.core.frame.DataFrame'>\n",
      "RangeIndex: 96453 entries, 0 to 96452\n",
      "Data columns (total 12 columns):\n",
      " #   Column                    Non-Null Count  Dtype  \n",
      "---  ------                    --------------  -----  \n",
      " 0   Formatted Date            96453 non-null  object \n",
      " 1   Summary                   96453 non-null  object \n",
      " 2   Precip Type               95936 non-null  object \n",
      " 3   Temperature (C)           96453 non-null  float64\n",
      " 4   Apparent Temperature (C)  96453 non-null  float64\n",
      " 5   Humidity                  96453 non-null  float64\n",
      " 6   Wind Speed (km/h)         96453 non-null  float64\n",
      " 7   Wind Bearing (degrees)    96453 non-null  float64\n",
      " 8   Visibility (km)           96453 non-null  float64\n",
      " 9   Loud Cover                96453 non-null  float64\n",
      " 10  Pressure (millibars)      96453 non-null  float64\n",
      " 11  Daily Summary             96453 non-null  object \n",
      "dtypes: float64(8), object(4)\n",
      "memory usage: 8.8+ MB\n"
     ]
    }
   ],
   "source": [
    "# df_temp.column\n",
    "print(\"************* Observation of the Data   *************\")\n",
    "df_temp.info()\n"
   ]
  },
  {
   "cell_type": "code",
   "execution_count": 18,
   "metadata": {},
   "outputs": [
    {
     "name": "stdout",
     "output_type": "stream",
     "text": [
      "********* Considering only Continuous variables *********** \n",
      " \n",
      " Index(['Temperature (C)', 'Apparent Temperature (C)', 'Humidity',\n",
      "       'Wind Speed (km/h)', 'Wind Bearing (degrees)', 'Visibility (km)',\n",
      "       'Loud Cover', 'Pressure (millibars)'],\n",
      "      dtype='object')\n"
     ]
    }
   ],
   "source": [
    "\n",
    "#Required columns\n",
    "df_temp1=df_temp[['Temperature (C)',\n",
    "       'Apparent Temperature (C)', 'Humidity', 'Wind Speed (km/h)',\n",
    "       'Wind Bearing (degrees)', 'Visibility (km)', 'Loud Cover',\n",
    "       'Pressure (millibars)']]\n",
    "print(\"********* Considering only Continuous variables *********** \\n \\n\",df_temp1.columns)"
   ]
  },
  {
   "cell_type": "code",
   "execution_count": null,
   "metadata": {},
   "outputs": [],
   "source": [
    "print(\"****************** Checking the data ****************** \\n \\n\",df_temp1.head())"
   ]
  },
  {
   "cell_type": "markdown",
   "metadata": {},
   "source": [
    "Missing value imputation"
   ]
  },
  {
   "cell_type": "code",
   "execution_count": 19,
   "metadata": {},
   "outputs": [
    {
     "name": "stdout",
     "output_type": "stream",
     "text": [
      "********** Verifying missing values in all the columns ************ \n",
      " \n",
      " Temperature (C)             0\n",
      "Apparent Temperature (C)    0\n",
      "Humidity                    0\n",
      "Wind Speed (km/h)           0\n",
      "Wind Bearing (degrees)      0\n",
      "Visibility (km)             0\n",
      "Loud Cover                  0\n",
      "Pressure (millibars)        0\n",
      "dtype: int64\n"
     ]
    }
   ],
   "source": [
    "#checking missing value imputation\n",
    "print(\"********** Verifying missing values in all the columns ************ \\n \\n\",df_temp1.isna().sum())"
   ]
  },
  {
   "cell_type": "markdown",
   "metadata": {},
   "source": [
    "Relationship between independent variables and dependent variables"
   ]
  },
  {
   "cell_type": "code",
   "execution_count": 20,
   "metadata": {},
   "outputs": [
    {
     "name": "stdout",
     "output_type": "stream",
     "text": [
      "*********** Verifying correlation interms of pearson statistic ****************\n"
     ]
    },
    {
     "data": {
      "text/html": [
       "<div>\n",
       "<style scoped>\n",
       "    .dataframe tbody tr th:only-of-type {\n",
       "        vertical-align: middle;\n",
       "    }\n",
       "\n",
       "    .dataframe tbody tr th {\n",
       "        vertical-align: top;\n",
       "    }\n",
       "\n",
       "    .dataframe thead th {\n",
       "        text-align: right;\n",
       "    }\n",
       "</style>\n",
       "<table border=\"1\" class=\"dataframe\">\n",
       "  <thead>\n",
       "    <tr style=\"text-align: right;\">\n",
       "      <th></th>\n",
       "      <th>Temperature (C)</th>\n",
       "      <th>Apparent Temperature (C)</th>\n",
       "      <th>Humidity</th>\n",
       "      <th>Wind Speed (km/h)</th>\n",
       "      <th>Wind Bearing (degrees)</th>\n",
       "      <th>Visibility (km)</th>\n",
       "      <th>Loud Cover</th>\n",
       "      <th>Pressure (millibars)</th>\n",
       "    </tr>\n",
       "  </thead>\n",
       "  <tbody>\n",
       "    <tr>\n",
       "      <th>Temperature (C)</th>\n",
       "      <td>1.000000</td>\n",
       "      <td>0.992629</td>\n",
       "      <td>-0.632255</td>\n",
       "      <td>0.008957</td>\n",
       "      <td>0.029988</td>\n",
       "      <td>0.392847</td>\n",
       "      <td>NaN</td>\n",
       "      <td>-0.005447</td>\n",
       "    </tr>\n",
       "    <tr>\n",
       "      <th>Apparent Temperature (C)</th>\n",
       "      <td>0.992629</td>\n",
       "      <td>1.000000</td>\n",
       "      <td>-0.602571</td>\n",
       "      <td>-0.056650</td>\n",
       "      <td>0.029031</td>\n",
       "      <td>0.381718</td>\n",
       "      <td>NaN</td>\n",
       "      <td>-0.000219</td>\n",
       "    </tr>\n",
       "    <tr>\n",
       "      <th>Humidity</th>\n",
       "      <td>-0.632255</td>\n",
       "      <td>-0.602571</td>\n",
       "      <td>1.000000</td>\n",
       "      <td>-0.224951</td>\n",
       "      <td>0.000735</td>\n",
       "      <td>-0.369173</td>\n",
       "      <td>NaN</td>\n",
       "      <td>0.005454</td>\n",
       "    </tr>\n",
       "    <tr>\n",
       "      <th>Wind Speed (km/h)</th>\n",
       "      <td>0.008957</td>\n",
       "      <td>-0.056650</td>\n",
       "      <td>-0.224951</td>\n",
       "      <td>1.000000</td>\n",
       "      <td>0.103822</td>\n",
       "      <td>0.100749</td>\n",
       "      <td>NaN</td>\n",
       "      <td>-0.049263</td>\n",
       "    </tr>\n",
       "    <tr>\n",
       "      <th>Wind Bearing (degrees)</th>\n",
       "      <td>0.029988</td>\n",
       "      <td>0.029031</td>\n",
       "      <td>0.000735</td>\n",
       "      <td>0.103822</td>\n",
       "      <td>1.000000</td>\n",
       "      <td>0.047594</td>\n",
       "      <td>NaN</td>\n",
       "      <td>-0.011651</td>\n",
       "    </tr>\n",
       "    <tr>\n",
       "      <th>Visibility (km)</th>\n",
       "      <td>0.392847</td>\n",
       "      <td>0.381718</td>\n",
       "      <td>-0.369173</td>\n",
       "      <td>0.100749</td>\n",
       "      <td>0.047594</td>\n",
       "      <td>1.000000</td>\n",
       "      <td>NaN</td>\n",
       "      <td>0.059818</td>\n",
       "    </tr>\n",
       "    <tr>\n",
       "      <th>Loud Cover</th>\n",
       "      <td>NaN</td>\n",
       "      <td>NaN</td>\n",
       "      <td>NaN</td>\n",
       "      <td>NaN</td>\n",
       "      <td>NaN</td>\n",
       "      <td>NaN</td>\n",
       "      <td>NaN</td>\n",
       "      <td>NaN</td>\n",
       "    </tr>\n",
       "    <tr>\n",
       "      <th>Pressure (millibars)</th>\n",
       "      <td>-0.005447</td>\n",
       "      <td>-0.000219</td>\n",
       "      <td>0.005454</td>\n",
       "      <td>-0.049263</td>\n",
       "      <td>-0.011651</td>\n",
       "      <td>0.059818</td>\n",
       "      <td>NaN</td>\n",
       "      <td>1.000000</td>\n",
       "    </tr>\n",
       "  </tbody>\n",
       "</table>\n",
       "</div>"
      ],
      "text/plain": [
       "                          Temperature (C)  Apparent Temperature (C)  Humidity  \\\n",
       "Temperature (C)                  1.000000                  0.992629 -0.632255   \n",
       "Apparent Temperature (C)         0.992629                  1.000000 -0.602571   \n",
       "Humidity                        -0.632255                 -0.602571  1.000000   \n",
       "Wind Speed (km/h)                0.008957                 -0.056650 -0.224951   \n",
       "Wind Bearing (degrees)           0.029988                  0.029031  0.000735   \n",
       "Visibility (km)                  0.392847                  0.381718 -0.369173   \n",
       "Loud Cover                            NaN                       NaN       NaN   \n",
       "Pressure (millibars)            -0.005447                 -0.000219  0.005454   \n",
       "\n",
       "                          Wind Speed (km/h)  Wind Bearing (degrees)  \\\n",
       "Temperature (C)                    0.008957                0.029988   \n",
       "Apparent Temperature (C)          -0.056650                0.029031   \n",
       "Humidity                          -0.224951                0.000735   \n",
       "Wind Speed (km/h)                  1.000000                0.103822   \n",
       "Wind Bearing (degrees)             0.103822                1.000000   \n",
       "Visibility (km)                    0.100749                0.047594   \n",
       "Loud Cover                              NaN                     NaN   \n",
       "Pressure (millibars)              -0.049263               -0.011651   \n",
       "\n",
       "                          Visibility (km)  Loud Cover  Pressure (millibars)  \n",
       "Temperature (C)                  0.392847         NaN             -0.005447  \n",
       "Apparent Temperature (C)         0.381718         NaN             -0.000219  \n",
       "Humidity                        -0.369173         NaN              0.005454  \n",
       "Wind Speed (km/h)                0.100749         NaN             -0.049263  \n",
       "Wind Bearing (degrees)           0.047594         NaN             -0.011651  \n",
       "Visibility (km)                  1.000000         NaN              0.059818  \n",
       "Loud Cover                            NaN         NaN                   NaN  \n",
       "Pressure (millibars)             0.059818         NaN              1.000000  "
      ]
     },
     "execution_count": 20,
     "metadata": {},
     "output_type": "execute_result"
    }
   ],
   "source": [
    "print(\"*********** Verifying correlation interms of pearson statistic ****************\")\n",
    "df_temp1.corr()"
   ]
  },
  {
   "cell_type": "code",
   "execution_count": 21,
   "metadata": {},
   "outputs": [
    {
     "name": "stdout",
     "output_type": "stream",
     "text": [
      "********  Checking correlation interms of Visualization:Humidity vs Apparent Temperature************\n"
     ]
    },
    {
     "data": {
      "text/plain": [
       "<matplotlib.collections.PathCollection at 0x1db9b0402e8>"
      ]
     },
     "execution_count": 21,
     "metadata": {},
     "output_type": "execute_result"
    },
    {
     "data": {
      "image/png": "[encoded data removed]",
      "text/plain": [
       "<Figure size 432x288 with 1 Axes>"
      ]
     },
     "metadata": {
      "needs_background": "light"
     },
     "output_type": "display_data"
    }
   ],
   "source": [
    "#visualization\n",
    "print(\"********  Checking correlation interms of Visualization:Humidity vs Apparent Temperature************\")\n",
    "plt.scatter(df_temp1['Humidity'],df_temp1['Apparent Temperature (C)'])"
   ]
  },
  {
   "cell_type": "code",
   "execution_count": 22,
   "metadata": {},
   "outputs": [
    {
     "name": "stdout",
     "output_type": "stream",
     "text": [
      "*****Checking correlation interms of Visualization:Temperature vs Apparent Temperature********\n"
     ]
    },
    {
     "data": {
      "text/plain": [
       "<matplotlib.collections.PathCollection at 0x1db9b83c278>"
      ]
     },
     "execution_count": 22,
     "metadata": {},
     "output_type": "execute_result"
    },
    {
     "data": {
      "image/png": "[encoded data removed]",
      "text/plain": [
       "<Figure size 432x288 with 1 Axes>"
      ]
     },
     "metadata": {
      "needs_background": "light"
     },
     "output_type": "display_data"
    }
   ],
   "source": [
    "print(\"*****Checking correlation interms of Visualization:Temperature vs Apparent Temperature********\")\n",
    "plt.scatter(df_temp1['Temperature (C)'],df_temp1['Apparent Temperature (C)'])"
   ]
  },
  {
   "cell_type": "markdown",
   "metadata": {},
   "source": [
    "Data Normalization "
   ]
  },
  {
   "cell_type": "code",
   "execution_count": 23,
   "metadata": {},
   "outputs": [],
   "source": [
    "df_corr_var=df_temp1[['Temperature (C)','Humidity','Apparent Temperature (C)']]"
   ]
  },
  {
   "cell_type": "code",
   "execution_count": 24,
   "metadata": {},
   "outputs": [
    {
     "data": {
      "text/plain": [
       "<matplotlib.axes._subplots.AxesSubplot at 0x1db9b9fe828>"
      ]
     },
     "execution_count": 24,
     "metadata": {},
     "output_type": "execute_result"
    },
    {
     "data": {
      "image/png": "[encoded data removed]",
      "text/plain": [
       "<Figure size 432x288 with 1 Axes>"
      ]
     },
     "metadata": {
      "needs_background": "light"
     },
     "output_type": "display_data"
    }
   ],
   "source": [
    "df_corr_var.boxplot()"
   ]
  },
  {
   "cell_type": "code",
   "execution_count": 25,
   "metadata": {},
   "outputs": [
    {
     "data": {
      "text/plain": [
       "<matplotlib.axes._subplots.AxesSubplot at 0x1db9bcb7cf8>"
      ]
     },
     "execution_count": 25,
     "metadata": {},
     "output_type": "execute_result"
    },
    {
     "data": {
      "image/png": "[encoded data removed]",
      "text/plain": [
       "<Figure size 432x288 with 1 Axes>"
      ]
     },
     "metadata": {
      "needs_background": "light"
     },
     "output_type": "display_data"
    }
   ],
   "source": [
    "df_corr_var.boxplot(column=['Humidity'])"
   ]
  },
  {
   "cell_type": "code",
   "execution_count": 26,
   "metadata": {},
   "outputs": [],
   "source": [
    "from sklearn.preprocessing import StandardScaler\n",
    "std=StandardScaler()\n",
    "trans_var_x=pd.DataFrame(std.fit_transform(df_corr_var[['Temperature (C)','Humidity','Apparent Temperature (C)']]))\n",
    "trans_var_x.columns=['temp','humidity','apr_temp']"
   ]
  },
  {
   "cell_type": "code",
   "execution_count": 27,
   "metadata": {},
   "outputs": [
    {
     "data": {
      "text/plain": [
       "<matplotlib.axes._subplots.AxesSubplot at 0x1db9d292320>"
      ]
     },
     "execution_count": 27,
     "metadata": {},
     "output_type": "execute_result"
    },
    {
     "data": {
      "image/png": "[encoded data removed]",
      "text/plain": [
       "<Figure size 432x288 with 1 Axes>"
      ]
     },
     "metadata": {
      "needs_background": "light"
     },
     "output_type": "display_data"
    }
   ],
   "source": [
    "trans_var_x.boxplot()"
   ]
  },
  {
   "cell_type": "code",
   "execution_count": 28,
   "metadata": {},
   "outputs": [
    {
     "data": {
      "text/html": [
       "<div>\n",
       "<style scoped>\n",
       "    .dataframe tbody tr th:only-of-type {\n",
       "        vertical-align: middle;\n",
       "    }\n",
       "\n",
       "    .dataframe tbody tr th {\n",
       "        vertical-align: top;\n",
       "    }\n",
       "\n",
       "    .dataframe thead th {\n",
       "        text-align: right;\n",
       "    }\n",
       "</style>\n",
       "<table border=\"1\" class=\"dataframe\">\n",
       "  <thead>\n",
       "    <tr style=\"text-align: right;\">\n",
       "      <th></th>\n",
       "      <th>temp</th>\n",
       "      <th>humidity</th>\n",
       "      <th>apr_temp</th>\n",
       "    </tr>\n",
       "  </thead>\n",
       "  <tbody>\n",
       "    <tr>\n",
       "      <th>temp</th>\n",
       "      <td>1.000000</td>\n",
       "      <td>-0.632255</td>\n",
       "      <td>0.992629</td>\n",
       "    </tr>\n",
       "    <tr>\n",
       "      <th>humidity</th>\n",
       "      <td>-0.632255</td>\n",
       "      <td>1.000000</td>\n",
       "      <td>-0.602571</td>\n",
       "    </tr>\n",
       "    <tr>\n",
       "      <th>apr_temp</th>\n",
       "      <td>0.992629</td>\n",
       "      <td>-0.602571</td>\n",
       "      <td>1.000000</td>\n",
       "    </tr>\n",
       "  </tbody>\n",
       "</table>\n",
       "</div>"
      ],
      "text/plain": [
       "              temp  humidity  apr_temp\n",
       "temp      1.000000 -0.632255  0.992629\n",
       "humidity -0.632255  1.000000 -0.602571\n",
       "apr_temp  0.992629 -0.602571  1.000000"
      ]
     },
     "execution_count": 28,
     "metadata": {},
     "output_type": "execute_result"
    }
   ],
   "source": [
    "trans_var_x.corr()"
   ]
  },
  {
   "cell_type": "code",
   "execution_count": 29,
   "metadata": {},
   "outputs": [
    {
     "data": {
      "text/plain": [
       "array([[<matplotlib.axes._subplots.AxesSubplot object at 0x000001DB9D1DF908>,\n",
       "        <matplotlib.axes._subplots.AxesSubplot object at 0x000001DB9D3A2358>],\n",
       "       [<matplotlib.axes._subplots.AxesSubplot object at 0x000001DB9D3C57B8>,\n",
       "        <matplotlib.axes._subplots.AxesSubplot object at 0x000001DB9D3EAD30>]],\n",
       "      dtype=object)"
      ]
     },
     "execution_count": 29,
     "metadata": {},
     "output_type": "execute_result"
    },
    {
     "data": {
      "image/png": "[encoded data removed]",
      "text/plain": [
       "<Figure size 432x288 with 4 Axes>"
      ]
     },
     "metadata": {
      "needs_background": "light"
     },
     "output_type": "display_data"
    }
   ],
   "source": [
    "trans_var_x.hist()"
   ]
  },
  {
   "cell_type": "markdown",
   "metadata": {},
   "source": [
    "Outlier Analysis"
   ]
  },
  {
   "cell_type": "code",
   "execution_count": 30,
   "metadata": {},
   "outputs": [],
   "source": [
    "df_corr_var_lower=(trans_var_x.temp.quantile(.25)- (1.5 * (trans_var_x.temp.quantile(.75)  -trans_var_x.temp.quantile(.25))))"
   ]
  },
  {
   "cell_type": "code",
   "execution_count": 31,
   "metadata": {},
   "outputs": [],
   "source": [
    "df_corr_var_upper=(trans_var_x.temp.quantile(.75) + (1.5 * (trans_var_x.temp.quantile(.75)  -trans_var_x.temp.quantile(.25))))"
   ]
  },
  {
   "cell_type": "code",
   "execution_count": 32,
   "metadata": {},
   "outputs": [
    {
     "name": "stdout",
     "output_type": "stream",
     "text": [
      "****** Lower outlier cut off **** \n",
      " -2.9805579298464293 \n",
      " \n",
      "****** Upper outlier cut off **** \n",
      " 2.9452148727231746\n"
     ]
    }
   ],
   "source": [
    "print(\"****** Lower outlier cut off **** \\n\",df_corr_var_lower,\"\\n \\n****** Upper outlier cut off **** \\n\",df_corr_var_upper)"
   ]
  },
  {
   "cell_type": "code",
   "execution_count": 33,
   "metadata": {},
   "outputs": [],
   "source": [
    "trans_var_x_new=trans_var_x[( trans_var_x.temp > df_corr_var_lower) & ( trans_var_x.temp < df_corr_var_upper)  ]"
   ]
  },
  {
   "cell_type": "code",
   "execution_count": 34,
   "metadata": {},
   "outputs": [
    {
     "data": {
      "text/html": [
       "<div>\n",
       "<style scoped>\n",
       "    .dataframe tbody tr th:only-of-type {\n",
       "        vertical-align: middle;\n",
       "    }\n",
       "\n",
       "    .dataframe tbody tr th {\n",
       "        vertical-align: top;\n",
       "    }\n",
       "\n",
       "    .dataframe thead th {\n",
       "        text-align: right;\n",
       "    }\n",
       "</style>\n",
       "<table border=\"1\" class=\"dataframe\">\n",
       "  <thead>\n",
       "    <tr style=\"text-align: right;\">\n",
       "      <th></th>\n",
       "      <th>temp</th>\n",
       "      <th>humidity</th>\n",
       "      <th>apr_temp</th>\n",
       "    </tr>\n",
       "  </thead>\n",
       "  <tbody>\n",
       "    <tr>\n",
       "      <th>count</th>\n",
       "      <td>96409.000000</td>\n",
       "      <td>96409.000000</td>\n",
       "      <td>96409.000000</td>\n",
       "    </tr>\n",
       "    <tr>\n",
       "      <th>mean</th>\n",
       "      <td>0.001461</td>\n",
       "      <td>-0.000007</td>\n",
       "      <td>0.001364</td>\n",
       "    </tr>\n",
       "    <tr>\n",
       "      <th>std</th>\n",
       "      <td>0.997884</td>\n",
       "      <td>0.999898</td>\n",
       "      <td>0.998176</td>\n",
       "    </tr>\n",
       "    <tr>\n",
       "      <th>min</th>\n",
       "      <td>-2.936062</td>\n",
       "      <td>-3.759618</td>\n",
       "      <td>-3.280270</td>\n",
       "    </tr>\n",
       "    <tr>\n",
       "      <th>25%</th>\n",
       "      <td>-0.755485</td>\n",
       "      <td>-0.690120</td>\n",
       "      <td>-0.797698</td>\n",
       "    </tr>\n",
       "    <tr>\n",
       "      <th>50%</th>\n",
       "      <td>0.008212</td>\n",
       "      <td>0.230729</td>\n",
       "      <td>0.108077</td>\n",
       "    </tr>\n",
       "    <tr>\n",
       "      <th>75%</th>\n",
       "      <td>0.723050</td>\n",
       "      <td>0.793470</td>\n",
       "      <td>0.746379</td>\n",
       "    </tr>\n",
       "    <tr>\n",
       "      <th>max</th>\n",
       "      <td>2.928638</td>\n",
       "      <td>1.356212</td>\n",
       "      <td>2.663361</td>\n",
       "    </tr>\n",
       "  </tbody>\n",
       "</table>\n",
       "</div>"
      ],
      "text/plain": [
       "               temp      humidity      apr_temp\n",
       "count  96409.000000  96409.000000  96409.000000\n",
       "mean       0.001461     -0.000007      0.001364\n",
       "std        0.997884      0.999898      0.998176\n",
       "min       -2.936062     -3.759618     -3.280270\n",
       "25%       -0.755485     -0.690120     -0.797698\n",
       "50%        0.008212      0.230729      0.108077\n",
       "75%        0.723050      0.793470      0.746379\n",
       "max        2.928638      1.356212      2.663361"
      ]
     },
     "execution_count": 34,
     "metadata": {},
     "output_type": "execute_result"
    }
   ],
   "source": [
    "trans_var_x_new.describe()"
   ]
  },
  {
   "cell_type": "code",
   "execution_count": 35,
   "metadata": {},
   "outputs": [
    {
     "data": {
      "text/plain": [
       "array([[<matplotlib.axes._subplots.AxesSubplot object at 0x000001DB9D495780>,\n",
       "        <matplotlib.axes._subplots.AxesSubplot object at 0x000001DB9D4EC940>],\n",
       "       [<matplotlib.axes._subplots.AxesSubplot object at 0x000001DB9D514C50>,\n",
       "        <matplotlib.axes._subplots.AxesSubplot object at 0x000001DB9D545208>]],\n",
       "      dtype=object)"
      ]
     },
     "execution_count": 35,
     "metadata": {},
     "output_type": "execute_result"
    },
    {
     "data": {
      "image/png": "[encoded data removed]",
      "text/plain": [
       "<Figure size 576x432 with 4 Axes>"
      ]
     },
     "metadata": {
      "needs_background": "light"
     },
     "output_type": "display_data"
    }
   ],
   "source": [
    "trans_var_x_new.hist(figsize=(8,6))"
   ]
  },
  {
   "cell_type": "code",
   "execution_count": 36,
   "metadata": {},
   "outputs": [
    {
     "data": {
      "text/plain": [
       "<matplotlib.axes._subplots.AxesSubplot at 0x1db9d439160>"
      ]
     },
     "execution_count": 36,
     "metadata": {},
     "output_type": "execute_result"
    },
    {
     "data": {
      "image/png": "[encoded data removed]",
      "text/plain": [
       "<Figure size 432x288 with 1 Axes>"
      ]
     },
     "metadata": {
      "needs_background": "light"
     },
     "output_type": "display_data"
    }
   ],
   "source": [
    "trans_var_x_new.boxplot()"
   ]
  },
  {
   "cell_type": "code",
   "execution_count": 37,
   "metadata": {},
   "outputs": [],
   "source": [
    "from sklearn.preprocessing import PowerTransformer\n",
    "power=PowerTransformer(method='yeo-johnson')\n",
    "trans_var_power=pd.DataFrame(power.fit_transform(trans_var_x_new[['humidity']]))"
   ]
  },
  {
   "cell_type": "code",
   "execution_count": 38,
   "metadata": {},
   "outputs": [],
   "source": [
    "trans_var_power1=power.fit_transform(trans_var_x_new[['humidity']])"
   ]
  },
  {
   "cell_type": "code",
   "execution_count": 40,
   "metadata": {},
   "outputs": [],
   "source": [
    "# trans_var_power1"
   ]
  },
  {
   "cell_type": "code",
   "execution_count": 41,
   "metadata": {},
   "outputs": [
    {
     "name": "stderr",
     "output_type": "stream",
     "text": [
      "C:\\Users\\ppulivarthi\\AppData\\Local\\Continuum\\anaconda3\\lib\\site-packages\\ipykernel_launcher.py:1: SettingWithCopyWarning: \n",
      "A value is trying to be set on a copy of a slice from a DataFrame.\n",
      "Try using .loc[row_indexer,col_indexer] = value instead\n",
      "\n",
      "See the caveats in the documentation: https://pandas.pydata.org/pandas-docs/stable/user_guide/indexing.html#returning-a-view-versus-a-copy\n",
      "  \"\"\"Entry point for launching an IPython kernel.\n"
     ]
    }
   ],
   "source": [
    "trans_var_x_new['humidity_n']=trans_var_power1"
   ]
  },
  {
   "cell_type": "code",
   "execution_count": 42,
   "metadata": {},
   "outputs": [
    {
     "data": {
      "text/plain": [
       "array([[<matplotlib.axes._subplots.AxesSubplot object at 0x000001DB9DB67390>,\n",
       "        <matplotlib.axes._subplots.AxesSubplot object at 0x000001DB9D80BC88>],\n",
       "       [<matplotlib.axes._subplots.AxesSubplot object at 0x000001DB9D83E240>,\n",
       "        <matplotlib.axes._subplots.AxesSubplot object at 0x000001DB9D8667B8>]],\n",
       "      dtype=object)"
      ]
     },
     "execution_count": 42,
     "metadata": {},
     "output_type": "execute_result"
    },
    {
     "data": {
      "image/png": "[encoded data removed]",
      "text/plain": [
       "<Figure size 576x432 with 4 Axes>"
      ]
     },
     "metadata": {
      "needs_background": "light"
     },
     "output_type": "display_data"
    }
   ],
   "source": [
    "trans_var_x_new.hist(figsize=(8,6))"
   ]
  },
  {
   "cell_type": "code",
   "execution_count": 43,
   "metadata": {},
   "outputs": [
    {
     "data": {
      "text/html": [
       "<div>\n",
       "<style scoped>\n",
       "    .dataframe tbody tr th:only-of-type {\n",
       "        vertical-align: middle;\n",
       "    }\n",
       "\n",
       "    .dataframe tbody tr th {\n",
       "        vertical-align: top;\n",
       "    }\n",
       "\n",
       "    .dataframe thead th {\n",
       "        text-align: right;\n",
       "    }\n",
       "</style>\n",
       "<table border=\"1\" class=\"dataframe\">\n",
       "  <thead>\n",
       "    <tr style=\"text-align: right;\">\n",
       "      <th></th>\n",
       "      <th>temp</th>\n",
       "      <th>humidity</th>\n",
       "      <th>apr_temp</th>\n",
       "      <th>humidity_n</th>\n",
       "    </tr>\n",
       "  </thead>\n",
       "  <tbody>\n",
       "    <tr>\n",
       "      <th>temp</th>\n",
       "      <td>1.000000</td>\n",
       "      <td>-0.633931</td>\n",
       "      <td>0.992625</td>\n",
       "      <td>-0.607308</td>\n",
       "    </tr>\n",
       "    <tr>\n",
       "      <th>humidity</th>\n",
       "      <td>-0.633931</td>\n",
       "      <td>1.000000</td>\n",
       "      <td>-0.603970</td>\n",
       "      <td>0.979157</td>\n",
       "    </tr>\n",
       "    <tr>\n",
       "      <th>apr_temp</th>\n",
       "      <td>0.992625</td>\n",
       "      <td>-0.603970</td>\n",
       "      <td>1.000000</td>\n",
       "      <td>-0.578410</td>\n",
       "    </tr>\n",
       "    <tr>\n",
       "      <th>humidity_n</th>\n",
       "      <td>-0.607308</td>\n",
       "      <td>0.979157</td>\n",
       "      <td>-0.578410</td>\n",
       "      <td>1.000000</td>\n",
       "    </tr>\n",
       "  </tbody>\n",
       "</table>\n",
       "</div>"
      ],
      "text/plain": [
       "                temp  humidity  apr_temp  humidity_n\n",
       "temp        1.000000 -0.633931  0.992625   -0.607308\n",
       "humidity   -0.633931  1.000000 -0.603970    0.979157\n",
       "apr_temp    0.992625 -0.603970  1.000000   -0.578410\n",
       "humidity_n -0.607308  0.979157 -0.578410    1.000000"
      ]
     },
     "execution_count": 43,
     "metadata": {},
     "output_type": "execute_result"
    }
   ],
   "source": [
    "trans_var_x_new.corr()"
   ]
  },
  {
   "cell_type": "code",
   "execution_count": null,
   "metadata": {},
   "outputs": [],
   "source": [
    "# linear regression"
   ]
  },
  {
   "cell_type": "code",
   "execution_count": 44,
   "metadata": {},
   "outputs": [],
   "source": [
    "from sklearn.model_selection import train_test_split\n",
    "from sklearn.linear_model import LinearRegression\n",
    "from sklearn  import linear_model"
   ]
  },
  {
   "cell_type": "code",
   "execution_count": 45,
   "metadata": {},
   "outputs": [],
   "source": [
    "X_train,X_test,y_train,y_test=train_test_split(trans_var_x_new[['temp','humidity_n']],trans_var_x_new[['apr_temp']],test_size=.33)"
   ]
  },
  {
   "cell_type": "code",
   "execution_count": 46,
   "metadata": {},
   "outputs": [
    {
     "data": {
      "text/plain": [
       "LinearRegression()"
      ]
     },
     "execution_count": 46,
     "metadata": {},
     "output_type": "execute_result"
    }
   ],
   "source": [
    "reg_sim=LinearRegression()\n",
    "reg_sim.fit(X_train,y_train)"
   ]
  },
  {
   "cell_type": "code",
   "execution_count": 47,
   "metadata": {},
   "outputs": [
    {
     "data": {
      "text/plain": [
       "array([[1.0156154 , 0.03810062]])"
      ]
     },
     "execution_count": 47,
     "metadata": {},
     "output_type": "execute_result"
    }
   ],
   "source": [
    "# coefficient\n",
    "reg_sim.coef_"
   ]
  },
  {
   "cell_type": "code",
   "execution_count": 48,
   "metadata": {},
   "outputs": [
    {
     "data": {
      "text/plain": [
       "array([-3.09459221e-05])"
      ]
     },
     "execution_count": 48,
     "metadata": {},
     "output_type": "execute_result"
    }
   ],
   "source": [
    "#Intercept\n",
    "reg_sim.intercept_"
   ]
  },
  {
   "cell_type": "code",
   "execution_count": 49,
   "metadata": {},
   "outputs": [
    {
     "data": {
      "text/plain": [
       "0.9862211525336921"
      ]
     },
     "execution_count": 49,
     "metadata": {},
     "output_type": "execute_result"
    }
   ],
   "source": [
    "#Score \n",
    "reg_sim.score(X_train,y_train)"
   ]
  },
  {
   "cell_type": "markdown",
   "metadata": {},
   "source": [
    "Model Assessments\n",
    "->Mean square error\n",
    "->R-Square\n"
   ]
  },
  {
   "cell_type": "code",
   "execution_count": 50,
   "metadata": {},
   "outputs": [],
   "source": [
    "from sklearn.metrics import mean_squared_error, r2_score,mean_absolute_error"
   ]
  },
  {
   "cell_type": "code",
   "execution_count": 51,
   "metadata": {},
   "outputs": [],
   "source": [
    "y_pred=reg_sim.predict(X_test)"
   ]
  },
  {
   "cell_type": "code",
   "execution_count": 52,
   "metadata": {},
   "outputs": [
    {
     "name": "stdout",
     "output_type": "stream",
     "text": [
      "Mean squared error: 0.01\n"
     ]
    }
   ],
   "source": [
    "\n",
    "# The mean squared error\n",
    "print('Mean squared error: %.2f'\n",
    "      % mean_squared_error(y_test,y_pred))"
   ]
  },
  {
   "cell_type": "code",
   "execution_count": 53,
   "metadata": {},
   "outputs": [
    {
     "name": "stdout",
     "output_type": "stream",
     "text": [
      "Mean absolute error: 0.09\n"
     ]
    }
   ],
   "source": [
    "\n",
    "# The mean squared error\n",
    "print('Mean absolute error: %.2f'\n",
    "      % mean_absolute_error(y_test,y_pred))\n"
   ]
  },
  {
   "cell_type": "code",
   "execution_count": 54,
   "metadata": {},
   "outputs": [
    {
     "name": "stdout",
     "output_type": "stream",
     "text": [
      "Coefficient of determination: 0.99\n"
     ]
    }
   ],
   "source": [
    "# R-Square/Coefficient of determination\n",
    "print('Coefficient of determination: %.2f'\n",
    "      % r2_score(y_test, y_pred))"
   ]
  },
  {
   "cell_type": "code",
   "execution_count": null,
   "metadata": {},
   "outputs": [],
   "source": [
    "# # Plot outputs\n",
    "# plt.scatter(X_test,y_test,  color='black')\n",
    "# plt.plot(X_test, y_pred, color='blue', linewidth=3)\n",
    "\n",
    "# plt.xticks(())\n",
    "# plt.yticks(())\n",
    "\n",
    "# plt.show()"
   ]
  },
  {
   "cell_type": "markdown",
   "metadata": {},
   "source": [
    "# Multicollinearity"
   ]
  },
  {
   "cell_type": "code",
   "execution_count": null,
   "metadata": {},
   "outputs": [],
   "source": [
    "trans_var_x_new.columns"
   ]
  },
  {
   "cell_type": "code",
   "execution_count": 55,
   "metadata": {},
   "outputs": [
    {
     "data": {
      "text/plain": [
       "<matplotlib.axes._subplots.AxesSubplot at 0x1db9dd05f60>"
      ]
     },
     "execution_count": 55,
     "metadata": {},
     "output_type": "execute_result"
    },
    {
     "data": {
      "image/png": "[encoded data removed]",
      "text/plain": [
       "<Figure size 432x288 with 1 Axes>"
      ]
     },
     "metadata": {
      "needs_background": "light"
     },
     "output_type": "display_data"
    }
   ],
   "source": [
    "\n",
    "trans_var_x_new.plot.scatter(x='temp', y='humidity_n')"
   ]
  },
  {
   "cell_type": "code",
   "execution_count": 56,
   "metadata": {},
   "outputs": [
    {
     "data": {
      "text/html": [
       "<div>\n",
       "<style scoped>\n",
       "    .dataframe tbody tr th:only-of-type {\n",
       "        vertical-align: middle;\n",
       "    }\n",
       "\n",
       "    .dataframe tbody tr th {\n",
       "        vertical-align: top;\n",
       "    }\n",
       "\n",
       "    .dataframe thead th {\n",
       "        text-align: right;\n",
       "    }\n",
       "</style>\n",
       "<table border=\"1\" class=\"dataframe\">\n",
       "  <thead>\n",
       "    <tr style=\"text-align: right;\">\n",
       "      <th></th>\n",
       "      <th>temp</th>\n",
       "      <th>humidity</th>\n",
       "      <th>apr_temp</th>\n",
       "      <th>humidity_n</th>\n",
       "    </tr>\n",
       "  </thead>\n",
       "  <tbody>\n",
       "    <tr>\n",
       "      <th>temp</th>\n",
       "      <td>1.000000</td>\n",
       "      <td>-0.633931</td>\n",
       "      <td>0.992625</td>\n",
       "      <td>-0.607308</td>\n",
       "    </tr>\n",
       "    <tr>\n",
       "      <th>humidity</th>\n",
       "      <td>-0.633931</td>\n",
       "      <td>1.000000</td>\n",
       "      <td>-0.603970</td>\n",
       "      <td>0.979157</td>\n",
       "    </tr>\n",
       "    <tr>\n",
       "      <th>apr_temp</th>\n",
       "      <td>0.992625</td>\n",
       "      <td>-0.603970</td>\n",
       "      <td>1.000000</td>\n",
       "      <td>-0.578410</td>\n",
       "    </tr>\n",
       "    <tr>\n",
       "      <th>humidity_n</th>\n",
       "      <td>-0.607308</td>\n",
       "      <td>0.979157</td>\n",
       "      <td>-0.578410</td>\n",
       "      <td>1.000000</td>\n",
       "    </tr>\n",
       "  </tbody>\n",
       "</table>\n",
       "</div>"
      ],
      "text/plain": [
       "                temp  humidity  apr_temp  humidity_n\n",
       "temp        1.000000 -0.633931  0.992625   -0.607308\n",
       "humidity   -0.633931  1.000000 -0.603970    0.979157\n",
       "apr_temp    0.992625 -0.603970  1.000000   -0.578410\n",
       "humidity_n -0.607308  0.979157 -0.578410    1.000000"
      ]
     },
     "execution_count": 56,
     "metadata": {},
     "output_type": "execute_result"
    }
   ],
   "source": [
    "trans_var_x_new.corr()"
   ]
  },
  {
   "cell_type": "code",
   "execution_count": 57,
   "metadata": {},
   "outputs": [],
   "source": [
    "from statsmodels.stats.outliers_influence import variance_inflation_factor\n",
    "\n",
    "def calc_vif(X):\n",
    "    # Calculating VIF\n",
    "    vif = pd.DataFrame()\n",
    "    vif[\"variables\"] = X.columns\n",
    "    vif[\"VIF\"] = [variance_inflation_factor(X.values, i) for i in range(X.shape[1])]\n",
    "\n",
    "    return(vif)"
   ]
  },
  {
   "cell_type": "code",
   "execution_count": 58,
   "metadata": {},
   "outputs": [
    {
     "data": {
      "text/html": [
       "<div>\n",
       "<style scoped>\n",
       "    .dataframe tbody tr th:only-of-type {\n",
       "        vertical-align: middle;\n",
       "    }\n",
       "\n",
       "    .dataframe tbody tr th {\n",
       "        vertical-align: top;\n",
       "    }\n",
       "\n",
       "    .dataframe thead th {\n",
       "        text-align: right;\n",
       "    }\n",
       "</style>\n",
       "<table border=\"1\" class=\"dataframe\">\n",
       "  <thead>\n",
       "    <tr style=\"text-align: right;\">\n",
       "      <th></th>\n",
       "      <th>variables</th>\n",
       "      <th>VIF</th>\n",
       "    </tr>\n",
       "  </thead>\n",
       "  <tbody>\n",
       "    <tr>\n",
       "      <th>0</th>\n",
       "      <td>temp</td>\n",
       "      <td>1.58434</td>\n",
       "    </tr>\n",
       "    <tr>\n",
       "      <th>1</th>\n",
       "      <td>humidity_n</td>\n",
       "      <td>1.58434</td>\n",
       "    </tr>\n",
       "  </tbody>\n",
       "</table>\n",
       "</div>"
      ],
      "text/plain": [
       "    variables      VIF\n",
       "0        temp  1.58434\n",
       "1  humidity_n  1.58434"
      ]
     },
     "execution_count": 58,
     "metadata": {},
     "output_type": "execute_result"
    }
   ],
   "source": [
    "# VIF in converted variables\n",
    "XX = trans_var_x_new[['temp','humidity_n']]\n",
    "calc_vif(XX)"
   ]
  },
  {
   "cell_type": "code",
   "execution_count": 59,
   "metadata": {},
   "outputs": [
    {
     "data": {
      "text/html": [
       "<div>\n",
       "<style scoped>\n",
       "    .dataframe tbody tr th:only-of-type {\n",
       "        vertical-align: middle;\n",
       "    }\n",
       "\n",
       "    .dataframe tbody tr th {\n",
       "        vertical-align: top;\n",
       "    }\n",
       "\n",
       "    .dataframe thead th {\n",
       "        text-align: right;\n",
       "    }\n",
       "</style>\n",
       "<table border=\"1\" class=\"dataframe\">\n",
       "  <thead>\n",
       "    <tr style=\"text-align: right;\">\n",
       "      <th></th>\n",
       "      <th>variables</th>\n",
       "      <th>VIF</th>\n",
       "    </tr>\n",
       "  </thead>\n",
       "  <tbody>\n",
       "    <tr>\n",
       "      <th>0</th>\n",
       "      <td>Temperature (C)</td>\n",
       "      <td>1.743029</td>\n",
       "    </tr>\n",
       "    <tr>\n",
       "      <th>1</th>\n",
       "      <td>Humidity</td>\n",
       "      <td>1.743029</td>\n",
       "    </tr>\n",
       "  </tbody>\n",
       "</table>\n",
       "</div>"
      ],
      "text/plain": [
       "         variables       VIF\n",
       "0  Temperature (C)  1.743029\n",
       "1         Humidity  1.743029"
      ]
     },
     "execution_count": 59,
     "metadata": {},
     "output_type": "execute_result"
    }
   ],
   "source": [
    "# VIF in  original variables\n",
    "XX = df_temp1[['Temperature (C)', 'Humidity']]\n",
    "calc_vif(XX)"
   ]
  },
  {
   "cell_type": "code",
   "execution_count": null,
   "metadata": {},
   "outputs": [],
   "source": [
    "Linear Regression"
   ]
  },
  {
   "cell_type": "code",
   "execution_count": 62,
   "metadata": {},
   "outputs": [
    {
     "name": "stdout",
     "output_type": "stream",
     "text": [
      "Train data R-Square score: 0.99\n",
      "Mean squared error: 0.01\n",
      "Mean absolute error: 0.09\n",
      "Coefficient of determination: 0.99\n"
     ]
    },
    {
     "data": {
      "image/png": "[encoded data removed]",
      "text/plain": [
       "<Figure size 432x288 with 1 Axes>"
      ]
     },
     "metadata": {},
     "output_type": "display_data"
    }
   ],
   "source": [
    "X_train,X_test,y_train,y_test=train_test_split(trans_var_x_new[['temp']],trans_var_x_new[['apr_temp']],test_size=.30,random_state=0)\n",
    "                    \n",
    "reg_sim=LinearRegression()\n",
    "reg_sim.fit(X_train,y_train)\n",
    "\n",
    "# coefficient\n",
    "reg_sim.coef_\n",
    "\n",
    "#Intercept\n",
    "reg_sim.intercept_\n",
    "\n",
    "#Score \n",
    "reg_sim.score(X_train,y_train)\n",
    "print('Train data R-Square score: %.2f'\n",
    "      % reg_sim.score(X_train,y_train))\n",
    "\n",
    "y_pred=reg_sim.predict(X_test)\n",
    "\n",
    "\n",
    "\n",
    "# The mean squared error\n",
    "print('Mean squared error: %.2f'\n",
    "      % mean_squared_error(y_test,y_pred))\n",
    " \n",
    "\n",
    "# The mean squared error\n",
    "print('Mean absolute error: %.2f'\n",
    "      % mean_absolute_error(y_test,y_pred))\n",
    "# R-Square/Coefficient of determination\n",
    "print('Coefficient of determination: %.2f'\n",
    "      % r2_score(y_test, y_pred))\n",
    "# Plot outputs\n",
    "plt.scatter(X_test,y_test,  color='black')\n",
    "plt.plot(X_test, y_pred, color='blue', linewidth=3)\n",
    "\n",
    "plt.xticks(())\n",
    "plt.yticks(())\n",
    "\n",
    "plt.show()\n"
   ]
  },
  {
   "cell_type": "code",
   "execution_count": 61,
   "metadata": {},
   "outputs": [
    {
     "name": "stdout",
     "output_type": "stream",
     "text": [
      "Train data R-Square score: 0.33\n",
      "Mean squared error: 0.66\n",
      "Mean absolute error: 0.66\n",
      "Coefficient of determination: 0.34\n"
     ]
    },
    {
     "data": {
      "image/png": "[encoded data removed]",
      "text/plain": [
       "<Figure size 432x288 with 1 Axes>"
      ]
     },
     "metadata": {},
     "output_type": "display_data"
    }
   ],
   "source": [
    "X_train,X_test,y_train,y_test=train_test_split(trans_var_x_new[['humidity_n']],trans_var_x_new[['apr_temp']],test_size=.30,random_state=0)\n",
    "                    \n",
    "reg_sim=LinearRegression()\n",
    "reg_sim.fit(X_train,y_train)\n",
    "\n",
    "# coefficient\n",
    "reg_sim.coef_\n",
    "\n",
    "#Intercept\n",
    "reg_sim.intercept_\n",
    "\n",
    "#Score \n",
    "reg_sim.score(X_train,y_train)\n",
    "print('Train data R-Square score: %.2f'\n",
    "      % reg_sim.score(X_train,y_train))\n",
    "\n",
    "y_pred=reg_sim.predict(X_test)\n",
    "\n",
    "\n",
    "\n",
    "# The mean squared error\n",
    "print('Mean squared error: %.2f'\n",
    "      % mean_squared_error(y_test,y_pred))\n",
    " \n",
    "\n",
    "# The mean squared error\n",
    "print('Mean absolute error: %.2f'\n",
    "      % mean_absolute_error(y_test,y_pred))\n",
    "# R-Square/Coefficient of determination\n",
    "print('Coefficient of determination: %.2f'\n",
    "      % r2_score(y_test, y_pred))\n",
    "# Plot outputs\n",
    "plt.scatter(X_test,y_test,  color='black')\n",
    "plt.plot(X_test, y_pred, color='blue', linewidth=3)\n",
    "\n",
    "plt.xticks(())\n",
    "plt.yticks(())\n",
    "\n",
    "plt.show()"
   ]
  },
  {
   "cell_type": "markdown",
   "metadata": {},
   "source": [
    "Diagnostics"
   ]
  },
  {
   "cell_type": "code",
   "execution_count": 63,
   "metadata": {},
   "outputs": [],
   "source": [
    "y_res=y_test\n",
    "y_res['apr_pred']=y_pred\n",
    "#residual= actual values- predicted values\n",
    "y_res['residual']=(y_res.apr_temp-y_res.apr_pred)\n",
    "y_res['ind_var1_temp']=X_test['temp']"
   ]
  },
  {
   "cell_type": "code",
   "execution_count": 64,
   "metadata": {},
   "outputs": [
    {
     "data": {
      "text/html": [
       "<div>\n",
       "<style scoped>\n",
       "    .dataframe tbody tr th:only-of-type {\n",
       "        vertical-align: middle;\n",
       "    }\n",
       "\n",
       "    .dataframe tbody tr th {\n",
       "        vertical-align: top;\n",
       "    }\n",
       "\n",
       "    .dataframe thead th {\n",
       "        text-align: right;\n",
       "    }\n",
       "</style>\n",
       "<table border=\"1\" class=\"dataframe\">\n",
       "  <thead>\n",
       "    <tr style=\"text-align: right;\">\n",
       "      <th></th>\n",
       "      <th>apr_temp</th>\n",
       "      <th>apr_pred</th>\n",
       "      <th>residual</th>\n",
       "      <th>ind_var1_temp</th>\n",
       "    </tr>\n",
       "  </thead>\n",
       "  <tbody>\n",
       "    <tr>\n",
       "      <th>73661</th>\n",
       "      <td>-0.699537</td>\n",
       "      <td>-0.492466</td>\n",
       "      <td>-0.207071</td>\n",
       "      <td>-0.496072</td>\n",
       "    </tr>\n",
       "    <tr>\n",
       "      <th>72501</th>\n",
       "      <td>-0.930136</td>\n",
       "      <td>-0.859770</td>\n",
       "      <td>-0.070366</td>\n",
       "      <td>-0.865997</td>\n",
       "    </tr>\n",
       "    <tr>\n",
       "      <th>31226</th>\n",
       "      <td>-0.384801</td>\n",
       "      <td>-0.345776</td>\n",
       "      <td>-0.039026</td>\n",
       "      <td>-0.348335</td>\n",
       "    </tr>\n",
       "    <tr>\n",
       "      <th>59439</th>\n",
       "      <td>-0.076298</td>\n",
       "      <td>-0.196775</td>\n",
       "      <td>0.120477</td>\n",
       "      <td>-0.198271</td>\n",
       "    </tr>\n",
       "    <tr>\n",
       "      <th>73192</th>\n",
       "      <td>-0.764458</td>\n",
       "      <td>-0.708459</td>\n",
       "      <td>-0.055999</td>\n",
       "      <td>-0.713607</td>\n",
       "    </tr>\n",
       "    <tr>\n",
       "      <th>...</th>\n",
       "      <td>...</td>\n",
       "      <td>...</td>\n",
       "      <td>...</td>\n",
       "      <td>...</td>\n",
       "    </tr>\n",
       "    <tr>\n",
       "      <th>37400</th>\n",
       "      <td>-1.596483</td>\n",
       "      <td>-1.244977</td>\n",
       "      <td>-0.351506</td>\n",
       "      <td>-1.253952</td>\n",
       "    </tr>\n",
       "    <tr>\n",
       "      <th>32067</th>\n",
       "      <td>-0.401421</td>\n",
       "      <td>-0.311124</td>\n",
       "      <td>-0.090297</td>\n",
       "      <td>-0.313437</td>\n",
       "    </tr>\n",
       "    <tr>\n",
       "      <th>27934</th>\n",
       "      <td>-1.678024</td>\n",
       "      <td>-1.418812</td>\n",
       "      <td>-0.259212</td>\n",
       "      <td>-1.429027</td>\n",
       "    </tr>\n",
       "    <tr>\n",
       "      <th>36072</th>\n",
       "      <td>0.742743</td>\n",
       "      <td>0.713977</td>\n",
       "      <td>0.028766</td>\n",
       "      <td>0.718979</td>\n",
       "    </tr>\n",
       "    <tr>\n",
       "      <th>87061</th>\n",
       "      <td>1.218483</td>\n",
       "      <td>1.242988</td>\n",
       "      <td>-0.024505</td>\n",
       "      <td>1.251763</td>\n",
       "    </tr>\n",
       "  </tbody>\n",
       "</table>\n",
       "<p>28923 rows × 4 columns</p>\n",
       "</div>"
      ],
      "text/plain": [
       "       apr_temp  apr_pred  residual  ind_var1_temp\n",
       "73661 -0.699537 -0.492466 -0.207071      -0.496072\n",
       "72501 -0.930136 -0.859770 -0.070366      -0.865997\n",
       "31226 -0.384801 -0.345776 -0.039026      -0.348335\n",
       "59439 -0.076298 -0.196775  0.120477      -0.198271\n",
       "73192 -0.764458 -0.708459 -0.055999      -0.713607\n",
       "...         ...       ...       ...            ...\n",
       "37400 -1.596483 -1.244977 -0.351506      -1.253952\n",
       "32067 -0.401421 -0.311124 -0.090297      -0.313437\n",
       "27934 -1.678024 -1.418812 -0.259212      -1.429027\n",
       "36072  0.742743  0.713977  0.028766       0.718979\n",
       "87061  1.218483  1.242988 -0.024505       1.251763\n",
       "\n",
       "[28923 rows x 4 columns]"
      ]
     },
     "execution_count": 64,
     "metadata": {},
     "output_type": "execute_result"
    }
   ],
   "source": [
    "y_res"
   ]
  },
  {
   "cell_type": "code",
   "execution_count": 66,
   "metadata": {},
   "outputs": [
    {
     "name": "stdout",
     "output_type": "stream",
     "text": [
      "*********  Check Point: Residual vs Independent variables ********\n"
     ]
    },
    {
     "data": {
      "text/plain": [
       "<matplotlib.axes._subplots.AxesSubplot at 0x1dba0d37e80>"
      ]
     },
     "execution_count": 66,
     "metadata": {},
     "output_type": "execute_result"
    },
    {
     "data": {
      "image/png": "[encoded data removed]",
      "text/plain": [
       "<Figure size 432x288 with 1 Axes>"
      ]
     },
     "metadata": {
      "needs_background": "light"
     },
     "output_type": "display_data"
    }
   ],
   "source": [
    "\n",
    "print(\"*********  Check Point: Residual vs Independent variables ********\")\n",
    "y_res.plot.scatter(y='residual',x='ind_var1_temp')"
   ]
  },
  {
   "cell_type": "code",
   "execution_count": 65,
   "metadata": {},
   "outputs": [
    {
     "name": "stdout",
     "output_type": "stream",
     "text": [
      "*********  Check Point: Residual follows normal distribution(approx) ********\n"
     ]
    },
    {
     "data": {
      "text/plain": [
       "<matplotlib.axes._subplots.AxesSubplot at 0x1dba0c10940>"
      ]
     },
     "execution_count": 65,
     "metadata": {},
     "output_type": "execute_result"
    },
    {
     "data": {
      "image/png": "[encoded data removed]",
      "text/plain": [
       "<Figure size 432x288 with 1 Axes>"
      ]
     },
     "metadata": {
      "needs_background": "light"
     },
     "output_type": "display_data"
    }
   ],
   "source": [
    "print(\"*********  Check Point: Residual follows normal distribution(approx) ********\")\n",
    "y_res['residual'].hist()"
   ]
  },
  {
   "cell_type": "code",
   "execution_count": null,
   "metadata": {},
   "outputs": [],
   "source": [
    "Regression model-2"
   ]
  },
  {
   "cell_type": "code",
   "execution_count": 67,
   "metadata": {},
   "outputs": [],
   "source": [
    "#Import boston dataset from sklearn\n",
    "import pandas as pd\n",
    "from sklearn.datasets import load_boston\n",
    "from statsmodels.stats.outliers_influence import variance_inflation_factor\n",
    "boston= load_boston()"
   ]
  },
  {
   "cell_type": "code",
   "execution_count": 68,
   "metadata": {},
   "outputs": [
    {
     "data": {
      "text/plain": [
       "{'data': array([[6.3200e-03, 1.8000e+01, 2.3100e+00, ..., 1.5300e+01, 3.9690e+02,\n",
       "         4.9800e+00],\n",
       "        [2.7310e-02, 0.0000e+00, 7.0700e+00, ..., 1.7800e+01, 3.9690e+02,\n",
       "         9.1400e+00],\n",
       "        [2.7290e-02, 0.0000e+00, 7.0700e+00, ..., 1.7800e+01, 3.9283e+02,\n",
       "         4.0300e+00],\n",
       "        ...,\n",
       "        [6.0760e-02, 0.0000e+00, 1.1930e+01, ..., 2.1000e+01, 3.9690e+02,\n",
       "         5.6400e+00],\n",
       "        [1.0959e-01, 0.0000e+00, 1.1930e+01, ..., 2.1000e+01, 3.9345e+02,\n",
       "         6.4800e+00],\n",
       "        [4.7410e-02, 0.0000e+00, 1.1930e+01, ..., 2.1000e+01, 3.9690e+02,\n",
       "         7.8800e+00]]),\n",
       " 'target': array([24. , 21.6, 34.7, 33.4, 36.2, 28.7, 22.9, 27.1, 16.5, 18.9, 15. ,\n",
       "        18.9, 21.7, 20.4, 18.2, 19.9, 23.1, 17.5, 20.2, 18.2, 13.6, 19.6,\n",
       "        15.2, 14.5, 15.6, 13.9, 16.6, 14.8, 18.4, 21. , 12.7, 14.5, 13.2,\n",
       "        13.1, 13.5, 18.9, 20. , 21. , 24.7, 30.8, 34.9, 26.6, 25.3, 24.7,\n",
       "        21.2, 19.3, 20. , 16.6, 14.4, 19.4, 19.7, 20.5, 25. , 23.4, 18.9,\n",
       "        35.4, 24.7, 31.6, 23.3, 19.6, 18.7, 16. , 22.2, 25. , 33. , 23.5,\n",
       "        19.4, 22. , 17.4, 20.9, 24.2, 21.7, 22.8, 23.4, 24.1, 21.4, 20. ,\n",
       "        20.8, 21.2, 20.3, 28. , 23.9, 24.8, 22.9, 23.9, 26.6, 22.5, 22.2,\n",
       "        23.6, 28.7, 22.6, 22. , 22.9, 25. , 20.6, 28.4, 21.4, 38.7, 43.8,\n",
       "        33.2, 27.5, 26.5, 18.6, 19.3, 20.1, 19.5, 19.5, 20.4, 19.8, 19.4,\n",
       "        21.7, 22.8, 18.8, 18.7, 18.5, 18.3, 21.2, 19.2, 20.4, 19.3, 22. ,\n",
       "        20.3, 20.5, 17.3, 18.8, 21.4, 15.7, 16.2, 18. , 14.3, 19.2, 19.6,\n",
       "        23. , 18.4, 15.6, 18.1, 17.4, 17.1, 13.3, 17.8, 14. , 14.4, 13.4,\n",
       "        15.6, 11.8, 13.8, 15.6, 14.6, 17.8, 15.4, 21.5, 19.6, 15.3, 19.4,\n",
       "        17. , 15.6, 13.1, 41.3, 24.3, 23.3, 27. , 50. , 50. , 50. , 22.7,\n",
       "        25. , 50. , 23.8, 23.8, 22.3, 17.4, 19.1, 23.1, 23.6, 22.6, 29.4,\n",
       "        23.2, 24.6, 29.9, 37.2, 39.8, 36.2, 37.9, 32.5, 26.4, 29.6, 50. ,\n",
       "        32. , 29.8, 34.9, 37. , 30.5, 36.4, 31.1, 29.1, 50. , 33.3, 30.3,\n",
       "        34.6, 34.9, 32.9, 24.1, 42.3, 48.5, 50. , 22.6, 24.4, 22.5, 24.4,\n",
       "        20. , 21.7, 19.3, 22.4, 28.1, 23.7, 25. , 23.3, 28.7, 21.5, 23. ,\n",
       "        26.7, 21.7, 27.5, 30.1, 44.8, 50. , 37.6, 31.6, 46.7, 31.5, 24.3,\n",
       "        31.7, 41.7, 48.3, 29. , 24. , 25.1, 31.5, 23.7, 23.3, 22. , 20.1,\n",
       "        22.2, 23.7, 17.6, 18.5, 24.3, 20.5, 24.5, 26.2, 24.4, 24.8, 29.6,\n",
       "        42.8, 21.9, 20.9, 44. , 50. , 36. , 30.1, 33.8, 43.1, 48.8, 31. ,\n",
       "        36.5, 22.8, 30.7, 50. , 43.5, 20.7, 21.1, 25.2, 24.4, 35.2, 32.4,\n",
       "        32. , 33.2, 33.1, 29.1, 35.1, 45.4, 35.4, 46. , 50. , 32.2, 22. ,\n",
       "        20.1, 23.2, 22.3, 24.8, 28.5, 37.3, 27.9, 23.9, 21.7, 28.6, 27.1,\n",
       "        20.3, 22.5, 29. , 24.8, 22. , 26.4, 33.1, 36.1, 28.4, 33.4, 28.2,\n",
       "        22.8, 20.3, 16.1, 22.1, 19.4, 21.6, 23.8, 16.2, 17.8, 19.8, 23.1,\n",
       "        21. , 23.8, 23.1, 20.4, 18.5, 25. , 24.6, 23. , 22.2, 19.3, 22.6,\n",
       "        19.8, 17.1, 19.4, 22.2, 20.7, 21.1, 19.5, 18.5, 20.6, 19. , 18.7,\n",
       "        32.7, 16.5, 23.9, 31.2, 17.5, 17.2, 23.1, 24.5, 26.6, 22.9, 24.1,\n",
       "        18.6, 30.1, 18.2, 20.6, 17.8, 21.7, 22.7, 22.6, 25. , 19.9, 20.8,\n",
       "        16.8, 21.9, 27.5, 21.9, 23.1, 50. , 50. , 50. , 50. , 50. , 13.8,\n",
       "        13.8, 15. , 13.9, 13.3, 13.1, 10.2, 10.4, 10.9, 11.3, 12.3,  8.8,\n",
       "         7.2, 10.5,  7.4, 10.2, 11.5, 15.1, 23.2,  9.7, 13.8, 12.7, 13.1,\n",
       "        12.5,  8.5,  5. ,  6.3,  5.6,  7.2, 12.1,  8.3,  8.5,  5. , 11.9,\n",
       "        27.9, 17.2, 27.5, 15. , 17.2, 17.9, 16.3,  7. ,  7.2,  7.5, 10.4,\n",
       "         8.8,  8.4, 16.7, 14.2, 20.8, 13.4, 11.7,  8.3, 10.2, 10.9, 11. ,\n",
       "         9.5, 14.5, 14.1, 16.1, 14.3, 11.7, 13.4,  9.6,  8.7,  8.4, 12.8,\n",
       "        10.5, 17.1, 18.4, 15.4, 10.8, 11.8, 14.9, 12.6, 14.1, 13. , 13.4,\n",
       "        15.2, 16.1, 17.8, 14.9, 14.1, 12.7, 13.5, 14.9, 20. , 16.4, 17.7,\n",
       "        19.5, 20.2, 21.4, 19.9, 19. , 19.1, 19.1, 20.1, 19.9, 19.6, 23.2,\n",
       "        29.8, 13.8, 13.3, 16.7, 12. , 14.6, 21.4, 23. , 23.7, 25. , 21.8,\n",
       "        20.6, 21.2, 19.1, 20.6, 15.2,  7. ,  8.1, 13.6, 20.1, 21.8, 24.5,\n",
       "        23.1, 19.7, 18.3, 21.2, 17.5, 16.8, 22.4, 20.6, 23.9, 22. , 11.9]),\n",
       " 'feature_names': array(['CRIM', 'ZN', 'INDUS', 'CHAS', 'NOX', 'RM', 'AGE', 'DIS', 'RAD',\n",
       "        'TAX', 'PTRATIO', 'B', 'LSTAT'], dtype='<U7'),\n",
       " 'DESCR': \".. _boston_dataset:\\n\\nBoston house prices dataset\\n---------------------------\\n\\n**Data Set Characteristics:**  \\n\\n    :Number of Instances: 506 \\n\\n    :Number of Attributes: 13 numeric/categorical predictive. Median Value (attribute 14) is usually the target.\\n\\n    :Attribute Information (in order):\\n        - CRIM     per capita crime rate by town\\n        - ZN       proportion of residential land zoned for lots over 25,000 sq.ft.\\n        - INDUS    proportion of non-retail business acres per town\\n        - CHAS     Charles River dummy variable (= 1 if tract bounds river; 0 otherwise)\\n        - NOX      nitric oxides concentration (parts per 10 million)\\n        - RM       average number of rooms per dwelling\\n        - AGE      proportion of owner-occupied units built prior to 1940\\n        - DIS      weighted distances to five Boston employment centres\\n        - RAD      index of accessibility to radial highways\\n        - TAX      full-value property-tax rate per $10,000\\n        - PTRATIO  pupil-teacher ratio by town\\n        - B        1000(Bk - 0.63)^2 where Bk is the proportion of blacks by town\\n        - LSTAT    % lower status of the population\\n        - MEDV     Median value of owner-occupied homes in $1000's\\n\\n    :Missing Attribute Values: None\\n\\n    :Creator: Harrison, D. and Rubinfeld, D.L.\\n\\nThis is a copy of UCI ML housing dataset.\\nhttps://archive.ics.uci.edu/ml/machine-learning-databases/housing/\\n\\n\\nThis dataset was taken from the StatLib library which is maintained at Carnegie Mellon University.\\n\\nThe Boston house-price data of Harrison, D. and Rubinfeld, D.L. 'Hedonic\\nprices and the demand for clean air', J. Environ. Economics & Management,\\nvol.5, 81-102, 1978.   Used in Belsley, Kuh & Welsch, 'Regression diagnostics\\n...', Wiley, 1980.   N.B. Various transformations are used in the table on\\npages 244-261 of the latter.\\n\\nThe Boston house-price data has been used in many machine learning papers that address regression\\nproblems.   \\n     \\n.. topic:: References\\n\\n   - Belsley, Kuh & Welsch, 'Regression diagnostics: Identifying Influential Data and Sources of Collinearity', Wiley, 1980. 244-261.\\n   - Quinlan,R. (1993). Combining Instance-Based and Model-Based Learning. In Proceedings on the Tenth International Conference of Machine Learning, 236-243, University of Massachusetts, Amherst. Morgan Kaufmann.\\n\",\n",
       " 'filename': 'C:\\\\Users\\\\ppulivarthi\\\\AppData\\\\Local\\\\Continuum\\\\anaconda3\\\\lib\\\\site-packages\\\\sklearn\\\\datasets\\\\data\\\\boston_house_prices.csv'}"
      ]
     },
     "execution_count": 68,
     "metadata": {},
     "output_type": "execute_result"
    }
   ],
   "source": [
    "boston"
   ]
  },
  {
   "cell_type": "code",
   "execution_count": 69,
   "metadata": {},
   "outputs": [],
   "source": [
    "boston_features_df = pd.DataFrame(data=boston.data,columns=boston.feature_names)\n",
    "boston_target_df = pd.DataFrame(data=boston.target,columns=['MEDV'])"
   ]
  },
  {
   "cell_type": "code",
   "execution_count": 70,
   "metadata": {},
   "outputs": [
    {
     "data": {
      "text/html": [
       "<div>\n",
       "<style scoped>\n",
       "    .dataframe tbody tr th:only-of-type {\n",
       "        vertical-align: middle;\n",
       "    }\n",
       "\n",
       "    .dataframe tbody tr th {\n",
       "        vertical-align: top;\n",
       "    }\n",
       "\n",
       "    .dataframe thead th {\n",
       "        text-align: right;\n",
       "    }\n",
       "</style>\n",
       "<table border=\"1\" class=\"dataframe\">\n",
       "  <thead>\n",
       "    <tr style=\"text-align: right;\">\n",
       "      <th></th>\n",
       "      <th>MEDV</th>\n",
       "    </tr>\n",
       "  </thead>\n",
       "  <tbody>\n",
       "    <tr>\n",
       "      <th>0</th>\n",
       "      <td>24.0</td>\n",
       "    </tr>\n",
       "    <tr>\n",
       "      <th>1</th>\n",
       "      <td>21.6</td>\n",
       "    </tr>\n",
       "    <tr>\n",
       "      <th>2</th>\n",
       "      <td>34.7</td>\n",
       "    </tr>\n",
       "    <tr>\n",
       "      <th>3</th>\n",
       "      <td>33.4</td>\n",
       "    </tr>\n",
       "    <tr>\n",
       "      <th>4</th>\n",
       "      <td>36.2</td>\n",
       "    </tr>\n",
       "    <tr>\n",
       "      <th>...</th>\n",
       "      <td>...</td>\n",
       "    </tr>\n",
       "    <tr>\n",
       "      <th>501</th>\n",
       "      <td>22.4</td>\n",
       "    </tr>\n",
       "    <tr>\n",
       "      <th>502</th>\n",
       "      <td>20.6</td>\n",
       "    </tr>\n",
       "    <tr>\n",
       "      <th>503</th>\n",
       "      <td>23.9</td>\n",
       "    </tr>\n",
       "    <tr>\n",
       "      <th>504</th>\n",
       "      <td>22.0</td>\n",
       "    </tr>\n",
       "    <tr>\n",
       "      <th>505</th>\n",
       "      <td>11.9</td>\n",
       "    </tr>\n",
       "  </tbody>\n",
       "</table>\n",
       "<p>506 rows × 1 columns</p>\n",
       "</div>"
      ],
      "text/plain": [
       "     MEDV\n",
       "0    24.0\n",
       "1    21.6\n",
       "2    34.7\n",
       "3    33.4\n",
       "4    36.2\n",
       "..    ...\n",
       "501  22.4\n",
       "502  20.6\n",
       "503  23.9\n",
       "504  22.0\n",
       "505  11.9\n",
       "\n",
       "[506 rows x 1 columns]"
      ]
     },
     "execution_count": 70,
     "metadata": {},
     "output_type": "execute_result"
    }
   ],
   "source": [
    "boston_target_df"
   ]
  },
  {
   "cell_type": "code",
   "execution_count": 71,
   "metadata": {},
   "outputs": [
    {
     "name": "stderr",
     "output_type": "stream",
     "text": [
      "C:\\Users\\ppulivarthi\\AppData\\Local\\Continuum\\anaconda3\\lib\\site-packages\\statsmodels\\compat\\pandas.py:49: FutureWarning: The Panel class is removed from pandas. Accessing it from the top-level namespace will also be removed in the next version\n",
      "  data_klasses = (pandas.Series, pandas.DataFrame, pandas.Panel)\n"
     ]
    }
   ],
   "source": [
    "import sklearn\n",
    "from sklearn.model_selection import train_test_split #sklearn import does not automatically install sub packages\n",
    "from sklearn import linear_model\n",
    "import statsmodels.api as sm\n",
    "import numpy as np\n",
    "\n",
    "#Partition the data\n",
    "#Create training and test datasets\n",
    "X = boston_features_df\n",
    "Y = boston_target_df\n",
    "\n",
    "X_train, X_test, Y_train, Y_test = sklearn.model_selection.train_test_split(X, Y, test_size = 0.20, random_state = 5)\n"
   ]
  },
  {
   "cell_type": "code",
   "execution_count": 72,
   "metadata": {},
   "outputs": [
    {
     "name": "stdout",
     "output_type": "stream",
     "text": [
      "                            OLS Regression Results                            \n",
      "==============================================================================\n",
      "Dep. Variable:                   MEDV   R-squared:                       0.738\n",
      "Model:                            OLS   Adj. R-squared:                  0.730\n",
      "Method:                 Least Squares   F-statistic:                     84.65\n",
      "Date:                Tue, 17 Nov 2020   Prob (F-statistic):          8.21e-105\n",
      "Time:                        21:00:10   Log-Likelihood:                -1202.0\n",
      "No. Observations:                 404   AIC:                             2432.\n",
      "Df Residuals:                     390   BIC:                             2488.\n",
      "Df Model:                          13                                         \n",
      "Covariance Type:            nonrobust                                         \n",
      "==============================================================================\n",
      "                 coef    std err          t      P>|t|      [0.025      0.975]\n",
      "------------------------------------------------------------------------------\n",
      "const         37.9125      5.775      6.565      0.000      26.559      49.266\n",
      "CRIM          -0.1308      0.036     -3.603      0.000      -0.202      -0.059\n",
      "ZN             0.0494      0.016      3.131      0.002       0.018       0.080\n",
      "INDUS          0.0011      0.072      0.015      0.988      -0.141       0.143\n",
      "CHAS           2.7054      0.989      2.737      0.006       0.762       4.649\n",
      "NOX          -15.9571      4.517     -3.532      0.000     -24.838      -7.076\n",
      "RM             3.4140      0.470      7.266      0.000       2.490       4.338\n",
      "AGE            0.0011      0.015      0.077      0.939      -0.027       0.030\n",
      "DIS           -1.4931      0.233     -6.404      0.000      -1.951      -1.035\n",
      "RAD            0.3644      0.079      4.628      0.000       0.210       0.519\n",
      "TAX           -0.0132      0.004     -2.950      0.003      -0.022      -0.004\n",
      "PTRATIO       -0.9524      0.149     -6.411      0.000      -1.244      -0.660\n",
      "B              0.0117      0.003      3.795      0.000       0.006       0.018\n",
      "LSTAT         -0.5941      0.058    -10.271      0.000      -0.708      -0.480\n",
      "==============================================================================\n",
      "Omnibus:                      134.272   Durbin-Watson:                   2.057\n",
      "Prob(Omnibus):                  0.000   Jarque-Bera (JB):              542.194\n",
      "Skew:                           1.423   Prob(JB):                    1.84e-118\n",
      "Kurtosis:                       7.911   Cond. No.                     1.51e+04\n",
      "==============================================================================\n",
      "\n",
      "Warnings:\n",
      "[1] Standard Errors assume that the covariance matrix of the errors is correctly specified.\n",
      "[2] The condition number is large, 1.51e+04. This might indicate that there are\n",
      "strong multicollinearity or other numerical problems.\n"
     ]
    }
   ],
   "source": [
    "#Model statistics\n",
    "#Must add constant for y-intercept\n",
    "model = sm.OLS(Y_train, sm.add_constant(X_train)).fit()\n",
    "Y_pred = model.predict(sm.add_constant(X_test))\n",
    "print_model = model.summary()\n",
    "print(print_model)"
   ]
  },
  {
   "cell_type": "code",
   "execution_count": 73,
   "metadata": {},
   "outputs": [
    {
     "name": "stdout",
     "output_type": "stream",
     "text": [
      "    VIF Factor features\n",
      "0        578.6    const\n",
      "1          1.7     CRIM\n",
      "2          2.4       ZN\n",
      "3          4.1    INDUS\n",
      "4          1.1     CHAS\n",
      "5          4.6      NOX\n",
      "6          1.8       RM\n",
      "7          2.9      AGE\n",
      "8          4.0      DIS\n",
      "9          8.1      RAD\n",
      "10         9.8      TAX\n",
      "11         1.8  PTRATIO\n",
      "12         1.3        B\n",
      "13         2.9    LSTAT\n"
     ]
    }
   ],
   "source": [
    "x_temp = sm.add_constant(X_train)\n",
    "\n",
    "vif = pd.DataFrame()\n",
    "vif[\"VIF Factor\"] = [variance_inflation_factor(x_temp.values, i) for i in range(x_temp.values.shape[1])]\n",
    "vif[\"features\"] = x_temp.columns\n",
    "print(vif.round(1))"
   ]
  },
  {
   "cell_type": "code",
   "execution_count": null,
   "metadata": {},
   "outputs": [],
   "source": [
    "boston_features_df.head()"
   ]
  },
  {
   "cell_type": "code",
   "execution_count": 74,
   "metadata": {},
   "outputs": [
    {
     "data": {
      "text/html": [
       "<div>\n",
       "<style scoped>\n",
       "    .dataframe tbody tr th:only-of-type {\n",
       "        vertical-align: middle;\n",
       "    }\n",
       "\n",
       "    .dataframe tbody tr th {\n",
       "        vertical-align: top;\n",
       "    }\n",
       "\n",
       "    .dataframe thead th {\n",
       "        text-align: right;\n",
       "    }\n",
       "</style>\n",
       "<table border=\"1\" class=\"dataframe\">\n",
       "  <thead>\n",
       "    <tr style=\"text-align: right;\">\n",
       "      <th></th>\n",
       "      <th>CRIM</th>\n",
       "      <th>ZN</th>\n",
       "      <th>INDUS</th>\n",
       "      <th>CHAS</th>\n",
       "      <th>NOX</th>\n",
       "      <th>RM</th>\n",
       "      <th>AGE</th>\n",
       "      <th>DIS</th>\n",
       "      <th>TAX</th>\n",
       "      <th>PTRATIO</th>\n",
       "      <th>B</th>\n",
       "      <th>LSTAT</th>\n",
       "    </tr>\n",
       "  </thead>\n",
       "  <tbody>\n",
       "    <tr>\n",
       "      <th>0</th>\n",
       "      <td>0.00632</td>\n",
       "      <td>18.0</td>\n",
       "      <td>2.31</td>\n",
       "      <td>0.0</td>\n",
       "      <td>0.538</td>\n",
       "      <td>6.575</td>\n",
       "      <td>65.2</td>\n",
       "      <td>4.0900</td>\n",
       "      <td>296.0</td>\n",
       "      <td>15.3</td>\n",
       "      <td>396.90</td>\n",
       "      <td>4.98</td>\n",
       "    </tr>\n",
       "    <tr>\n",
       "      <th>1</th>\n",
       "      <td>0.02731</td>\n",
       "      <td>0.0</td>\n",
       "      <td>7.07</td>\n",
       "      <td>0.0</td>\n",
       "      <td>0.469</td>\n",
       "      <td>6.421</td>\n",
       "      <td>78.9</td>\n",
       "      <td>4.9671</td>\n",
       "      <td>242.0</td>\n",
       "      <td>17.8</td>\n",
       "      <td>396.90</td>\n",
       "      <td>9.14</td>\n",
       "    </tr>\n",
       "    <tr>\n",
       "      <th>2</th>\n",
       "      <td>0.02729</td>\n",
       "      <td>0.0</td>\n",
       "      <td>7.07</td>\n",
       "      <td>0.0</td>\n",
       "      <td>0.469</td>\n",
       "      <td>7.185</td>\n",
       "      <td>61.1</td>\n",
       "      <td>4.9671</td>\n",
       "      <td>242.0</td>\n",
       "      <td>17.8</td>\n",
       "      <td>392.83</td>\n",
       "      <td>4.03</td>\n",
       "    </tr>\n",
       "    <tr>\n",
       "      <th>3</th>\n",
       "      <td>0.03237</td>\n",
       "      <td>0.0</td>\n",
       "      <td>2.18</td>\n",
       "      <td>0.0</td>\n",
       "      <td>0.458</td>\n",
       "      <td>6.998</td>\n",
       "      <td>45.8</td>\n",
       "      <td>6.0622</td>\n",
       "      <td>222.0</td>\n",
       "      <td>18.7</td>\n",
       "      <td>394.63</td>\n",
       "      <td>2.94</td>\n",
       "    </tr>\n",
       "    <tr>\n",
       "      <th>4</th>\n",
       "      <td>0.06905</td>\n",
       "      <td>0.0</td>\n",
       "      <td>2.18</td>\n",
       "      <td>0.0</td>\n",
       "      <td>0.458</td>\n",
       "      <td>7.147</td>\n",
       "      <td>54.2</td>\n",
       "      <td>6.0622</td>\n",
       "      <td>222.0</td>\n",
       "      <td>18.7</td>\n",
       "      <td>396.90</td>\n",
       "      <td>5.33</td>\n",
       "    </tr>\n",
       "  </tbody>\n",
       "</table>\n",
       "</div>"
      ],
      "text/plain": [
       "      CRIM    ZN  INDUS  CHAS    NOX     RM   AGE     DIS    TAX  PTRATIO  \\\n",
       "0  0.00632  18.0   2.31   0.0  0.538  6.575  65.2  4.0900  296.0     15.3   \n",
       "1  0.02731   0.0   7.07   0.0  0.469  6.421  78.9  4.9671  242.0     17.8   \n",
       "2  0.02729   0.0   7.07   0.0  0.469  7.185  61.1  4.9671  242.0     17.8   \n",
       "3  0.03237   0.0   2.18   0.0  0.458  6.998  45.8  6.0622  222.0     18.7   \n",
       "4  0.06905   0.0   2.18   0.0  0.458  7.147  54.2  6.0622  222.0     18.7   \n",
       "\n",
       "        B  LSTAT  \n",
       "0  396.90   4.98  \n",
       "1  396.90   9.14  \n",
       "2  392.83   4.03  \n",
       "3  394.63   2.94  \n",
       "4  396.90   5.33  "
      ]
     },
     "execution_count": 74,
     "metadata": {},
     "output_type": "execute_result"
    }
   ],
   "source": [
    "#ADRESS ISSUES: START WITH ORIGINAL DATASET\n",
    "boston_new=boston_features_df.drop(['RAD'], axis=1)\n",
    "boston_new.head()"
   ]
  },
  {
   "cell_type": "code",
   "execution_count": 75,
   "metadata": {},
   "outputs": [
    {
     "name": "stdout",
     "output_type": "stream",
     "text": [
      "    VIF Factor features\n",
      "0        532.0    const\n",
      "1          1.6     CRIM\n",
      "2          2.3       ZN\n",
      "3          3.8    INDUS\n",
      "4          1.1     CHAS\n",
      "5          4.6      NOX\n",
      "6          1.8       RM\n",
      "7          2.9      AGE\n",
      "8          4.0      DIS\n",
      "9          3.6      TAX\n",
      "10         1.8  PTRATIO\n",
      "11         1.3        B\n",
      "12         2.9    LSTAT\n"
     ]
    }
   ],
   "source": [
    "#Partition the data\n",
    "#Create training and test datasets\n",
    "X_1 = boston_new\n",
    "Y_1 = boston_target_df\n",
    "\n",
    "X1_train, X1_test, Y1_train, Y1_test = sklearn.model_selection.train_test_split(X_1, Y_1, test_size = 0.20, random_state = 5)\n",
    "\n",
    "# For each X, calculate VIF and save in dataframe\n",
    "x_temp = sm.add_constant(X1_train)\n",
    "\n",
    "vif = pd.DataFrame()\n",
    "vif[\"VIF Factor\"] = [variance_inflation_factor(x_temp.values, i) for i in range(x_temp.values.shape[1])]\n",
    "vif[\"features\"] = x_temp.columns\n",
    "print(vif.round(1))"
   ]
  },
  {
   "cell_type": "code",
   "execution_count": 76,
   "metadata": {},
   "outputs": [
    {
     "name": "stdout",
     "output_type": "stream",
     "text": [
      "                            OLS Regression Results                            \n",
      "==============================================================================\n",
      "Dep. Variable:                   MEDV   R-squared:                       0.724\n",
      "Model:                            OLS   Adj. R-squared:                  0.715\n",
      "Method:                 Least Squares   F-statistic:                     85.46\n",
      "Date:                Tue, 17 Nov 2020   Prob (F-statistic):          2.63e-101\n",
      "Time:                        21:03:54   Log-Likelihood:                -1212.8\n",
      "No. Observations:                 404   AIC:                             2452.\n",
      "Df Residuals:                     391   BIC:                             2504.\n",
      "Df Model:                          12                                         \n",
      "Covariance Type:            nonrobust                                         \n",
      "==============================================================================\n",
      "                 coef    std err          t      P>|t|      [0.025      0.975]\n",
      "------------------------------------------------------------------------------\n",
      "const         30.3242      5.680      5.339      0.000      19.157      41.491\n",
      "CRIM          -0.0911      0.036     -2.518      0.012      -0.162      -0.020\n",
      "ZN             0.0420      0.016      2.607      0.009       0.010       0.074\n",
      "INDUS         -0.0869      0.072     -1.213      0.226      -0.228       0.054\n",
      "CHAS           3.1583      1.009      3.130      0.002       1.174       5.142\n",
      "NOX          -13.2874      4.596     -2.891      0.004     -22.323      -4.252\n",
      "RM             3.7384      0.477      7.845      0.000       2.802       4.675\n",
      "AGE           -0.0035      0.015     -0.234      0.815      -0.033       0.026\n",
      "DIS           -1.5139      0.239     -6.331      0.000      -1.984      -1.044\n",
      "TAX            0.0033      0.003      1.173      0.241      -0.002       0.009\n",
      "PTRATIO       -0.8202      0.150     -5.485      0.000      -1.114      -0.526\n",
      "B              0.0105      0.003      3.329      0.001       0.004       0.017\n",
      "LSTAT         -0.5817      0.059     -9.814      0.000      -0.698      -0.465\n",
      "==============================================================================\n",
      "Omnibus:                      144.710   Durbin-Watson:                   2.078\n",
      "Prob(Omnibus):                  0.000   Jarque-Bera (JB):              635.723\n",
      "Skew:                           1.513   Prob(JB):                    9.00e-139\n",
      "Kurtosis:                       8.349   Cond. No.                     1.46e+04\n",
      "==============================================================================\n",
      "\n",
      "Warnings:\n",
      "[1] Standard Errors assume that the covariance matrix of the errors is correctly specified.\n",
      "[2] The condition number is large, 1.46e+04. This might indicate that there are\n",
      "strong multicollinearity or other numerical problems.\n"
     ]
    }
   ],
   "source": [
    "model = sm.OLS(Y1_train, sm.add_constant(X1_train)).fit()\n",
    "Y1_pred = model.predict(sm.add_constant(X1_test))\n",
    "print_model = model.summary()\n",
    "print(print_model)"
   ]
  },
  {
   "cell_type": "code",
   "execution_count": 77,
   "metadata": {},
   "outputs": [
    {
     "name": "stdout",
     "output_type": "stream",
     "text": [
      "Mean Absolute Error ( Base): 3.213270495842386\n",
      "\n",
      "Mean Absolute Error (Not collinear): 3.139835291112997\n"
     ]
    }
   ],
   "source": [
    "import sklearn\n",
    "from sklearn import metrics\n",
    "\n",
    "print('Mean Absolute Error ( Base):', metrics.mean_absolute_error(Y_test, Y_pred))  \n",
    "print('')\n",
    "print('Mean Absolute Error (Not collinear):', metrics.mean_absolute_error(Y_test, Y1_pred)) "
   ]
  },
  {
   "cell_type": "code",
   "execution_count": null,
   "metadata": {},
   "outputs": [],
   "source": []
  }
 ],
 "metadata": {
  "kernelspec": {
   "display_name": "paramatma",
   "language": "python",
   "name": "paramatma"
  },
  "language_info": {
   "codemirror_mode": {
    "name": "ipython",
    "version": 3
   },
   "file_extension": ".py",
   "mimetype": "text/x-python",
   "name": "python",
   "nbconvert_exporter": "python",
   "pygments_lexer": "ipython3",
   "version": "3.7.1"
  }
 },
 "nbformat": 4,
 "nbformat_minor": 2
}
