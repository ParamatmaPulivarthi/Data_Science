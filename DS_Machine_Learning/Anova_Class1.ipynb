{
 "cells": [
  {
   "cell_type": "markdown",
   "metadata": {},
   "source": [
    "# ANOVA\n",
    "\n",
    "Use:\n",
    "\n",
    "Used to compare the means of more than 2 groups\n",
    "\n",
    "groups mean differences inferred by analyzing variances\n",
    "\n",
    "Assumptions:\n",
    "\n",
    "Residuals (experimental error) are normally distributed\n",
    "\n",
    "Homogeneity of variances (variances are equal between groups) \n",
    "\n",
    "Observations are sampled independently \n",
    "\n",
    "Hypothesis:\n",
    "\n",
    "Null hypotheses: Groups means are equal (no variation in means of groups)\n",
    "\n",
    "Alternative hypotheses: At least, one group mean is different from other groups"
   ]
  },
  {
   "cell_type": "markdown",
   "metadata": {},
   "source": [
    "# One-Way ANOVA\n",
    "\n",
    "Considering Balanced data"
   ]
  },
  {
   "cell_type": "code",
   "execution_count": 26,
   "metadata": {},
   "outputs": [],
   "source": [
    "import pandas as pd\n",
    "import numpy as np\n",
    "import matplotlib.pyplot as plt"
   ]
  },
  {
   "cell_type": "code",
   "execution_count": 27,
   "metadata": {},
   "outputs": [],
   "source": [
    "df_oneway=pd.read_excel(r\"C:\\Paramatma_Pulivarthi\\Data_Science_course\\Anova.xlsx\",sheet_name='one_way_anova')"
   ]
  },
  {
   "cell_type": "code",
   "execution_count": 28,
   "metadata": {},
   "outputs": [
    {
     "data": {
      "text/html": [
       "<div>\n",
       "<style scoped>\n",
       "    .dataframe tbody tr th:only-of-type {\n",
       "        vertical-align: middle;\n",
       "    }\n",
       "\n",
       "    .dataframe tbody tr th {\n",
       "        vertical-align: top;\n",
       "    }\n",
       "\n",
       "    .dataframe thead th {\n",
       "        text-align: right;\n",
       "    }\n",
       "</style>\n",
       "<table border=\"1\" class=\"dataframe\">\n",
       "  <thead>\n",
       "    <tr style=\"text-align: right;\">\n",
       "      <th></th>\n",
       "      <th>Drug</th>\n",
       "      <th>Sales(in 100's)</th>\n",
       "    </tr>\n",
       "  </thead>\n",
       "  <tbody>\n",
       "    <tr>\n",
       "      <th>0</th>\n",
       "      <td>Aspirin</td>\n",
       "      <td>11.892117</td>\n",
       "    </tr>\n",
       "    <tr>\n",
       "      <th>1</th>\n",
       "      <td>Aspirin</td>\n",
       "      <td>18.620222</td>\n",
       "    </tr>\n",
       "    <tr>\n",
       "      <th>2</th>\n",
       "      <td>Aspirin</td>\n",
       "      <td>20.018923</td>\n",
       "    </tr>\n",
       "    <tr>\n",
       "      <th>3</th>\n",
       "      <td>Aspirin</td>\n",
       "      <td>10.971042</td>\n",
       "    </tr>\n",
       "    <tr>\n",
       "      <th>4</th>\n",
       "      <td>Aspirin</td>\n",
       "      <td>12.960602</td>\n",
       "    </tr>\n",
       "    <tr>\n",
       "      <th>5</th>\n",
       "      <td>Aspirin</td>\n",
       "      <td>17.009329</td>\n",
       "    </tr>\n",
       "    <tr>\n",
       "      <th>6</th>\n",
       "      <td>Aspirin</td>\n",
       "      <td>12.394139</td>\n",
       "    </tr>\n",
       "    <tr>\n",
       "      <th>7</th>\n",
       "      <td>Aspirin</td>\n",
       "      <td>13.749822</td>\n",
       "    </tr>\n",
       "    <tr>\n",
       "      <th>8</th>\n",
       "      <td>Aspirin</td>\n",
       "      <td>6.719919</td>\n",
       "    </tr>\n",
       "    <tr>\n",
       "      <th>9</th>\n",
       "      <td>Aspirin</td>\n",
       "      <td>11.754593</td>\n",
       "    </tr>\n",
       "    <tr>\n",
       "      <th>10</th>\n",
       "      <td>Aspirin</td>\n",
       "      <td>15.546368</td>\n",
       "    </tr>\n",
       "    <tr>\n",
       "      <th>11</th>\n",
       "      <td>Aspirin</td>\n",
       "      <td>13.814819</td>\n",
       "    </tr>\n",
       "    <tr>\n",
       "      <th>12</th>\n",
       "      <td>Aspirin</td>\n",
       "      <td>13.633182</td>\n",
       "    </tr>\n",
       "    <tr>\n",
       "      <th>13</th>\n",
       "      <td>D-cold total</td>\n",
       "      <td>7.087273</td>\n",
       "    </tr>\n",
       "    <tr>\n",
       "      <th>14</th>\n",
       "      <td>D-cold total</td>\n",
       "      <td>5.902641</td>\n",
       "    </tr>\n",
       "    <tr>\n",
       "      <th>15</th>\n",
       "      <td>D-cold total</td>\n",
       "      <td>5.165104</td>\n",
       "    </tr>\n",
       "    <tr>\n",
       "      <th>16</th>\n",
       "      <td>D-cold total</td>\n",
       "      <td>8.995683</td>\n",
       "    </tr>\n",
       "    <tr>\n",
       "      <th>17</th>\n",
       "      <td>D-cold total</td>\n",
       "      <td>6.340842</td>\n",
       "    </tr>\n",
       "    <tr>\n",
       "      <th>18</th>\n",
       "      <td>D-cold total</td>\n",
       "      <td>13.572966</td>\n",
       "    </tr>\n",
       "    <tr>\n",
       "      <th>19</th>\n",
       "      <td>D-cold total</td>\n",
       "      <td>8.406663</td>\n",
       "    </tr>\n",
       "    <tr>\n",
       "      <th>20</th>\n",
       "      <td>D-cold total</td>\n",
       "      <td>11.342215</td>\n",
       "    </tr>\n",
       "    <tr>\n",
       "      <th>21</th>\n",
       "      <td>D-cold total</td>\n",
       "      <td>9.075558</td>\n",
       "    </tr>\n",
       "    <tr>\n",
       "      <th>22</th>\n",
       "      <td>D-cold total</td>\n",
       "      <td>7.421431</td>\n",
       "    </tr>\n",
       "    <tr>\n",
       "      <th>23</th>\n",
       "      <td>D-cold total</td>\n",
       "      <td>4.427577</td>\n",
       "    </tr>\n",
       "    <tr>\n",
       "      <th>24</th>\n",
       "      <td>D-cold total</td>\n",
       "      <td>6.897875</td>\n",
       "    </tr>\n",
       "    <tr>\n",
       "      <th>25</th>\n",
       "      <td>D-cold total</td>\n",
       "      <td>9.239114</td>\n",
       "    </tr>\n",
       "    <tr>\n",
       "      <th>26</th>\n",
       "      <td>paracetamol</td>\n",
       "      <td>13.834945</td>\n",
       "    </tr>\n",
       "    <tr>\n",
       "      <th>27</th>\n",
       "      <td>paracetamol</td>\n",
       "      <td>11.417320</td>\n",
       "    </tr>\n",
       "    <tr>\n",
       "      <th>28</th>\n",
       "      <td>paracetamol</td>\n",
       "      <td>7.156741</td>\n",
       "    </tr>\n",
       "    <tr>\n",
       "      <th>29</th>\n",
       "      <td>paracetamol</td>\n",
       "      <td>7.831219</td>\n",
       "    </tr>\n",
       "    <tr>\n",
       "      <th>30</th>\n",
       "      <td>paracetamol</td>\n",
       "      <td>11.952496</td>\n",
       "    </tr>\n",
       "    <tr>\n",
       "      <th>31</th>\n",
       "      <td>paracetamol</td>\n",
       "      <td>11.442174</td>\n",
       "    </tr>\n",
       "    <tr>\n",
       "      <th>32</th>\n",
       "      <td>paracetamol</td>\n",
       "      <td>16.591409</td>\n",
       "    </tr>\n",
       "    <tr>\n",
       "      <th>33</th>\n",
       "      <td>paracetamol</td>\n",
       "      <td>7.813333</td>\n",
       "    </tr>\n",
       "    <tr>\n",
       "      <th>34</th>\n",
       "      <td>paracetamol</td>\n",
       "      <td>14.476128</td>\n",
       "    </tr>\n",
       "    <tr>\n",
       "      <th>35</th>\n",
       "      <td>paracetamol</td>\n",
       "      <td>13.643647</td>\n",
       "    </tr>\n",
       "    <tr>\n",
       "      <th>36</th>\n",
       "      <td>paracetamol</td>\n",
       "      <td>10.740406</td>\n",
       "    </tr>\n",
       "    <tr>\n",
       "      <th>37</th>\n",
       "      <td>paracetamol</td>\n",
       "      <td>9.634784</td>\n",
       "    </tr>\n",
       "    <tr>\n",
       "      <th>38</th>\n",
       "      <td>paracetamol</td>\n",
       "      <td>8.308719</td>\n",
       "    </tr>\n",
       "  </tbody>\n",
       "</table>\n",
       "</div>"
      ],
      "text/plain": [
       "            Drug  Sales(in 100's)\n",
       "0        Aspirin        11.892117\n",
       "1        Aspirin        18.620222\n",
       "2        Aspirin        20.018923\n",
       "3        Aspirin        10.971042\n",
       "4        Aspirin        12.960602\n",
       "5        Aspirin        17.009329\n",
       "6        Aspirin        12.394139\n",
       "7        Aspirin        13.749822\n",
       "8        Aspirin         6.719919\n",
       "9        Aspirin        11.754593\n",
       "10       Aspirin        15.546368\n",
       "11       Aspirin        13.814819\n",
       "12       Aspirin        13.633182\n",
       "13  D-cold total         7.087273\n",
       "14  D-cold total         5.902641\n",
       "15  D-cold total         5.165104\n",
       "16  D-cold total         8.995683\n",
       "17  D-cold total         6.340842\n",
       "18  D-cold total        13.572966\n",
       "19  D-cold total         8.406663\n",
       "20  D-cold total        11.342215\n",
       "21  D-cold total         9.075558\n",
       "22  D-cold total         7.421431\n",
       "23  D-cold total         4.427577\n",
       "24  D-cold total         6.897875\n",
       "25  D-cold total         9.239114\n",
       "26   paracetamol        13.834945\n",
       "27   paracetamol        11.417320\n",
       "28   paracetamol         7.156741\n",
       "29   paracetamol         7.831219\n",
       "30   paracetamol        11.952496\n",
       "31   paracetamol        11.442174\n",
       "32   paracetamol        16.591409\n",
       "33   paracetamol         7.813333\n",
       "34   paracetamol        14.476128\n",
       "35   paracetamol        13.643647\n",
       "36   paracetamol        10.740406\n",
       "37   paracetamol         9.634784\n",
       "38   paracetamol         8.308719"
      ]
     },
     "execution_count": 28,
     "metadata": {},
     "output_type": "execute_result"
    }
   ],
   "source": [
    "##checking the data\n",
    "df_oneway"
   ]
  },
  {
   "cell_type": "code",
   "execution_count": 29,
   "metadata": {},
   "outputs": [
    {
     "data": {
      "text/plain": [
       "Index(['Drug', 'Sales(in 100's)'], dtype='object')"
      ]
     },
     "execution_count": 29,
     "metadata": {},
     "output_type": "execute_result"
    }
   ],
   "source": [
    "## checking the columns\n",
    "df_oneway.columns"
   ]
  },
  {
   "cell_type": "code",
   "execution_count": 30,
   "metadata": {},
   "outputs": [
    {
     "name": "stdout",
     "output_type": "stream",
     "text": [
      "<class 'pandas.core.frame.DataFrame'>\n",
      "RangeIndex: 39 entries, 0 to 38\n",
      "Data columns (total 2 columns):\n",
      " #   Column           Non-Null Count  Dtype  \n",
      "---  ------           --------------  -----  \n",
      " 0   Drug             39 non-null     object \n",
      " 1   Sales(in 100's)  39 non-null     float64\n",
      "dtypes: float64(1), object(1)\n",
      "memory usage: 752.0+ bytes\n"
     ]
    }
   ],
   "source": [
    "## checking basic information or variable types\n",
    "df_oneway.info()"
   ]
  },
  {
   "cell_type": "code",
   "execution_count": 31,
   "metadata": {},
   "outputs": [
    {
     "data": {
      "text/plain": [
       "<matplotlib.axes._subplots.AxesSubplot at 0x22ef1af5828>"
      ]
     },
     "execution_count": 31,
     "metadata": {},
     "output_type": "execute_result"
    },
    {
     "data": {
      "image/png": "[encoded data removed]",
      "text/plain": [
       "<Figure size 432x288 with 1 Axes>"
      ]
     },
     "metadata": {
      "needs_background": "light"
     },
     "output_type": "display_data"
    }
   ],
   "source": [
    "## EDA-Boxplot\n",
    "df_oneway.boxplot(by='Drug')"
   ]
  },
  {
   "cell_type": "code",
   "execution_count": 32,
   "metadata": {},
   "outputs": [
    {
     "data": {
      "text/plain": [
       "Sales(in 100's)    0.011688\n",
       "dtype: float64"
      ]
     },
     "execution_count": 32,
     "metadata": {},
     "output_type": "execute_result"
    },
    {
     "data": {
      "image/png": "[encoded data removed]",
      "text/plain": [
       "<Figure size 432x288 with 1 Axes>"
      ]
     },
     "metadata": {
      "needs_background": "light"
     },
     "output_type": "display_data"
    }
   ],
   "source": [
    "#EDA-Histogram--- checking the normality\n",
    "df_oneway[df_oneway.Drug=='Aspirin'].hist()\n",
    "df_oneway[df_oneway.Drug=='Aspirin'].skew()\n"
   ]
  },
  {
   "cell_type": "code",
   "execution_count": 33,
   "metadata": {},
   "outputs": [
    {
     "data": {
      "text/plain": [
       "Sales(in 100's)    0.81132\n",
       "dtype: float64"
      ]
     },
     "execution_count": 33,
     "metadata": {},
     "output_type": "execute_result"
    },
    {
     "data": {
      "image/png": "[encoded data removed]",
      "text/plain": [
       "<Figure size 432x288 with 1 Axes>"
      ]
     },
     "metadata": {
      "needs_background": "light"
     },
     "output_type": "display_data"
    }
   ],
   "source": [
    "df_oneway[df_oneway.Drug=='D-cold total'].hist()\n",
    "df_oneway[df_oneway.Drug=='D-cold total'].skew()"
   ]
  },
  {
   "cell_type": "code",
   "execution_count": 34,
   "metadata": {},
   "outputs": [
    {
     "data": {
      "text/plain": [
       "Sales(in 100's)    0.279893\n",
       "dtype: float64"
      ]
     },
     "execution_count": 34,
     "metadata": {},
     "output_type": "execute_result"
    },
    {
     "data": {
      "image/png": "[encoded data removed]",
      "text/plain": [
       "<Figure size 432x288 with 1 Axes>"
      ]
     },
     "metadata": {
      "needs_background": "light"
     },
     "output_type": "display_data"
    }
   ],
   "source": [
    "df_oneway[df_oneway.Drug=='paracetamol'].hist()\n",
    "df_oneway[df_oneway.Drug=='paracetamol'].skew()"
   ]
  },
  {
   "cell_type": "code",
   "execution_count": 36,
   "metadata": {},
   "outputs": [],
   "source": [
    "import scipy.stats as stats\n",
    "# syntax:scipy.stats.f_oneway(*args, axis=0)\n",
    "# # return statistic, p-value"
   ]
  },
  {
   "cell_type": "code",
   "execution_count": 37,
   "metadata": {},
   "outputs": [],
   "source": [
    "df_oneway_Aspirin=df_oneway[df_oneway['Drug']=='Aspirin']\n",
    "df_oneway_dcold=df_oneway[df_oneway['Drug']=='D-cold total']\n",
    "df_oneway_parace=df_oneway[df_oneway['Drug']=='paracetamol']"
   ]
  },
  {
   "cell_type": "code",
   "execution_count": 38,
   "metadata": {},
   "outputs": [
    {
     "data": {
      "text/html": [
       "<div>\n",
       "<style scoped>\n",
       "    .dataframe tbody tr th:only-of-type {\n",
       "        vertical-align: middle;\n",
       "    }\n",
       "\n",
       "    .dataframe tbody tr th {\n",
       "        vertical-align: top;\n",
       "    }\n",
       "\n",
       "    .dataframe thead th {\n",
       "        text-align: right;\n",
       "    }\n",
       "</style>\n",
       "<table border=\"1\" class=\"dataframe\">\n",
       "  <thead>\n",
       "    <tr style=\"text-align: right;\">\n",
       "      <th></th>\n",
       "      <th>Drug</th>\n",
       "      <th>Sales(in 100's)</th>\n",
       "    </tr>\n",
       "  </thead>\n",
       "  <tbody>\n",
       "    <tr>\n",
       "      <th>0</th>\n",
       "      <td>Aspirin</td>\n",
       "      <td>11.892117</td>\n",
       "    </tr>\n",
       "    <tr>\n",
       "      <th>1</th>\n",
       "      <td>Aspirin</td>\n",
       "      <td>18.620222</td>\n",
       "    </tr>\n",
       "    <tr>\n",
       "      <th>2</th>\n",
       "      <td>Aspirin</td>\n",
       "      <td>20.018923</td>\n",
       "    </tr>\n",
       "    <tr>\n",
       "      <th>3</th>\n",
       "      <td>Aspirin</td>\n",
       "      <td>10.971042</td>\n",
       "    </tr>\n",
       "    <tr>\n",
       "      <th>4</th>\n",
       "      <td>Aspirin</td>\n",
       "      <td>12.960602</td>\n",
       "    </tr>\n",
       "    <tr>\n",
       "      <th>5</th>\n",
       "      <td>Aspirin</td>\n",
       "      <td>17.009329</td>\n",
       "    </tr>\n",
       "    <tr>\n",
       "      <th>6</th>\n",
       "      <td>Aspirin</td>\n",
       "      <td>12.394139</td>\n",
       "    </tr>\n",
       "    <tr>\n",
       "      <th>7</th>\n",
       "      <td>Aspirin</td>\n",
       "      <td>13.749822</td>\n",
       "    </tr>\n",
       "    <tr>\n",
       "      <th>8</th>\n",
       "      <td>Aspirin</td>\n",
       "      <td>6.719919</td>\n",
       "    </tr>\n",
       "    <tr>\n",
       "      <th>9</th>\n",
       "      <td>Aspirin</td>\n",
       "      <td>11.754593</td>\n",
       "    </tr>\n",
       "    <tr>\n",
       "      <th>10</th>\n",
       "      <td>Aspirin</td>\n",
       "      <td>15.546368</td>\n",
       "    </tr>\n",
       "    <tr>\n",
       "      <th>11</th>\n",
       "      <td>Aspirin</td>\n",
       "      <td>13.814819</td>\n",
       "    </tr>\n",
       "    <tr>\n",
       "      <th>12</th>\n",
       "      <td>Aspirin</td>\n",
       "      <td>13.633182</td>\n",
       "    </tr>\n",
       "  </tbody>\n",
       "</table>\n",
       "</div>"
      ],
      "text/plain": [
       "       Drug  Sales(in 100's)\n",
       "0   Aspirin        11.892117\n",
       "1   Aspirin        18.620222\n",
       "2   Aspirin        20.018923\n",
       "3   Aspirin        10.971042\n",
       "4   Aspirin        12.960602\n",
       "5   Aspirin        17.009329\n",
       "6   Aspirin        12.394139\n",
       "7   Aspirin        13.749822\n",
       "8   Aspirin         6.719919\n",
       "9   Aspirin        11.754593\n",
       "10  Aspirin        15.546368\n",
       "11  Aspirin        13.814819\n",
       "12  Aspirin        13.633182"
      ]
     },
     "execution_count": 38,
     "metadata": {},
     "output_type": "execute_result"
    }
   ],
   "source": [
    "df_oneway_Aspirin"
   ]
  },
  {
   "cell_type": "code",
   "execution_count": 39,
   "metadata": {},
   "outputs": [
    {
     "name": "stdout",
     "output_type": "stream",
     "text": [
      "********** Oneway ANOVA Value ************ \n",
      " 12.1242894211351  \n",
      " ******** p-value ********** \n",
      " 9.42762904079332e-05\n"
     ]
    }
   ],
   "source": [
    "oneway_stat, oneway_p_val =stats.f_oneway(df_oneway_Aspirin[\"Sales(in 100's)\"],df_oneway_dcold[\"Sales(in 100's)\"],df_oneway_parace[\"Sales(in 100's)\"])\n",
    "print(\"********** Oneway ANOVA Value ************ \\n\",oneway_stat,\" \\n ******** p-value ********** \\n\",oneway_p_val)"
   ]
  },
  {
   "cell_type": "code",
   "execution_count": 40,
   "metadata": {},
   "outputs": [
    {
     "name": "stdout",
     "output_type": "stream",
     "text": [
      "*****************  Reject the Null Hypothesis ************* \n",
      " At least, one group mean is different from other groups \n",
      "\n"
     ]
    }
   ],
   "source": [
    "alpha = 0.05\n",
    "if oneway_p_val <= alpha: \n",
    "    print(\"*****************  Reject the Null Hypothesis ************* \\n At least, one group mean is different from other groups \\n\") \n",
    "else: \n",
    "    print(\"*****************  Accept the Null Hypothesis ************* \\n Groups means are equal (no variation in means of groups) \\n\")"
   ]
  },
  {
   "cell_type": "markdown",
   "metadata": {},
   "source": [
    "# Two-Way ANOVA"
   ]
  },
  {
   "cell_type": "code",
   "execution_count": 41,
   "metadata": {},
   "outputs": [],
   "source": [
    "df_twoway=pd.read_excel(r\"C:\\Paramatma_Pulivarthi\\Data_Science_course\\Anova.xlsx\",sheet_name='two_way_anova_ex')"
   ]
  },
  {
   "cell_type": "code",
   "execution_count": 44,
   "metadata": {},
   "outputs": [
    {
     "data": {
      "text/html": [
       "<div>\n",
       "<style scoped>\n",
       "    .dataframe tbody tr th:only-of-type {\n",
       "        vertical-align: middle;\n",
       "    }\n",
       "\n",
       "    .dataframe tbody tr th {\n",
       "        vertical-align: top;\n",
       "    }\n",
       "\n",
       "    .dataframe thead th {\n",
       "        text-align: right;\n",
       "    }\n",
       "</style>\n",
       "<table border=\"1\" class=\"dataframe\">\n",
       "  <thead>\n",
       "    <tr style=\"text-align: right;\">\n",
       "      <th></th>\n",
       "      <th>Drug</th>\n",
       "      <th>Doctor</th>\n",
       "      <th>Sales_in_100s</th>\n",
       "    </tr>\n",
       "  </thead>\n",
       "  <tbody>\n",
       "    <tr>\n",
       "      <th>0</th>\n",
       "      <td>Aspirin</td>\n",
       "      <td>Doctor_A</td>\n",
       "      <td>11.892117</td>\n",
       "    </tr>\n",
       "    <tr>\n",
       "      <th>1</th>\n",
       "      <td>Aspirin</td>\n",
       "      <td>Doctor_A</td>\n",
       "      <td>18.620222</td>\n",
       "    </tr>\n",
       "    <tr>\n",
       "      <th>2</th>\n",
       "      <td>Aspirin</td>\n",
       "      <td>Doctor_A</td>\n",
       "      <td>20.018923</td>\n",
       "    </tr>\n",
       "    <tr>\n",
       "      <th>3</th>\n",
       "      <td>Aspirin</td>\n",
       "      <td>Doctor_A</td>\n",
       "      <td>10.971042</td>\n",
       "    </tr>\n",
       "    <tr>\n",
       "      <th>4</th>\n",
       "      <td>Aspirin</td>\n",
       "      <td>Doctor_B</td>\n",
       "      <td>12.960602</td>\n",
       "    </tr>\n",
       "    <tr>\n",
       "      <th>5</th>\n",
       "      <td>Aspirin</td>\n",
       "      <td>Doctor_B</td>\n",
       "      <td>17.009329</td>\n",
       "    </tr>\n",
       "    <tr>\n",
       "      <th>6</th>\n",
       "      <td>Aspirin</td>\n",
       "      <td>Doctor_B</td>\n",
       "      <td>12.394139</td>\n",
       "    </tr>\n",
       "    <tr>\n",
       "      <th>7</th>\n",
       "      <td>Aspirin</td>\n",
       "      <td>Doctor_B</td>\n",
       "      <td>13.749822</td>\n",
       "    </tr>\n",
       "    <tr>\n",
       "      <th>8</th>\n",
       "      <td>Aspirin</td>\n",
       "      <td>Doctor_B</td>\n",
       "      <td>6.719919</td>\n",
       "    </tr>\n",
       "    <tr>\n",
       "      <th>9</th>\n",
       "      <td>Aspirin</td>\n",
       "      <td>Doctor_C</td>\n",
       "      <td>11.754593</td>\n",
       "    </tr>\n",
       "    <tr>\n",
       "      <th>10</th>\n",
       "      <td>Aspirin</td>\n",
       "      <td>Doctor_C</td>\n",
       "      <td>15.546368</td>\n",
       "    </tr>\n",
       "    <tr>\n",
       "      <th>11</th>\n",
       "      <td>Aspirin</td>\n",
       "      <td>Doctor_C</td>\n",
       "      <td>13.814819</td>\n",
       "    </tr>\n",
       "    <tr>\n",
       "      <th>12</th>\n",
       "      <td>Aspirin</td>\n",
       "      <td>Doctor_C</td>\n",
       "      <td>13.633182</td>\n",
       "    </tr>\n",
       "    <tr>\n",
       "      <th>13</th>\n",
       "      <td>D-cold total</td>\n",
       "      <td>Doctor_A</td>\n",
       "      <td>7.087273</td>\n",
       "    </tr>\n",
       "    <tr>\n",
       "      <th>14</th>\n",
       "      <td>D-cold total</td>\n",
       "      <td>Doctor_A</td>\n",
       "      <td>5.902641</td>\n",
       "    </tr>\n",
       "    <tr>\n",
       "      <th>15</th>\n",
       "      <td>D-cold total</td>\n",
       "      <td>Doctor_A</td>\n",
       "      <td>5.165104</td>\n",
       "    </tr>\n",
       "    <tr>\n",
       "      <th>16</th>\n",
       "      <td>D-cold total</td>\n",
       "      <td>Doctor_A</td>\n",
       "      <td>8.995683</td>\n",
       "    </tr>\n",
       "    <tr>\n",
       "      <th>17</th>\n",
       "      <td>D-cold total</td>\n",
       "      <td>Doctor_B</td>\n",
       "      <td>6.340842</td>\n",
       "    </tr>\n",
       "    <tr>\n",
       "      <th>18</th>\n",
       "      <td>D-cold total</td>\n",
       "      <td>Doctor_B</td>\n",
       "      <td>13.572966</td>\n",
       "    </tr>\n",
       "    <tr>\n",
       "      <th>19</th>\n",
       "      <td>D-cold total</td>\n",
       "      <td>Doctor_B</td>\n",
       "      <td>8.406663</td>\n",
       "    </tr>\n",
       "    <tr>\n",
       "      <th>20</th>\n",
       "      <td>D-cold total</td>\n",
       "      <td>Doctor_B</td>\n",
       "      <td>11.342215</td>\n",
       "    </tr>\n",
       "    <tr>\n",
       "      <th>21</th>\n",
       "      <td>D-cold total</td>\n",
       "      <td>Doctor_B</td>\n",
       "      <td>9.075558</td>\n",
       "    </tr>\n",
       "    <tr>\n",
       "      <th>22</th>\n",
       "      <td>D-cold total</td>\n",
       "      <td>Doctor_C</td>\n",
       "      <td>7.421431</td>\n",
       "    </tr>\n",
       "    <tr>\n",
       "      <th>23</th>\n",
       "      <td>D-cold total</td>\n",
       "      <td>Doctor_C</td>\n",
       "      <td>4.427577</td>\n",
       "    </tr>\n",
       "    <tr>\n",
       "      <th>24</th>\n",
       "      <td>D-cold total</td>\n",
       "      <td>Doctor_C</td>\n",
       "      <td>6.897875</td>\n",
       "    </tr>\n",
       "    <tr>\n",
       "      <th>25</th>\n",
       "      <td>D-cold total</td>\n",
       "      <td>Doctor_C</td>\n",
       "      <td>9.239114</td>\n",
       "    </tr>\n",
       "    <tr>\n",
       "      <th>26</th>\n",
       "      <td>paracetamol</td>\n",
       "      <td>Doctor_A</td>\n",
       "      <td>13.834945</td>\n",
       "    </tr>\n",
       "    <tr>\n",
       "      <th>27</th>\n",
       "      <td>paracetamol</td>\n",
       "      <td>Doctor_A</td>\n",
       "      <td>11.417320</td>\n",
       "    </tr>\n",
       "    <tr>\n",
       "      <th>28</th>\n",
       "      <td>paracetamol</td>\n",
       "      <td>Doctor_A</td>\n",
       "      <td>7.156741</td>\n",
       "    </tr>\n",
       "    <tr>\n",
       "      <th>29</th>\n",
       "      <td>paracetamol</td>\n",
       "      <td>Doctor_A</td>\n",
       "      <td>7.831219</td>\n",
       "    </tr>\n",
       "    <tr>\n",
       "      <th>30</th>\n",
       "      <td>paracetamol</td>\n",
       "      <td>Doctor_B</td>\n",
       "      <td>11.952496</td>\n",
       "    </tr>\n",
       "    <tr>\n",
       "      <th>31</th>\n",
       "      <td>paracetamol</td>\n",
       "      <td>Doctor_B</td>\n",
       "      <td>11.442174</td>\n",
       "    </tr>\n",
       "    <tr>\n",
       "      <th>32</th>\n",
       "      <td>paracetamol</td>\n",
       "      <td>Doctor_B</td>\n",
       "      <td>16.591409</td>\n",
       "    </tr>\n",
       "    <tr>\n",
       "      <th>33</th>\n",
       "      <td>paracetamol</td>\n",
       "      <td>Doctor_B</td>\n",
       "      <td>7.813333</td>\n",
       "    </tr>\n",
       "    <tr>\n",
       "      <th>34</th>\n",
       "      <td>paracetamol</td>\n",
       "      <td>Doctor_B</td>\n",
       "      <td>14.476128</td>\n",
       "    </tr>\n",
       "    <tr>\n",
       "      <th>35</th>\n",
       "      <td>paracetamol</td>\n",
       "      <td>Doctor_C</td>\n",
       "      <td>13.643647</td>\n",
       "    </tr>\n",
       "    <tr>\n",
       "      <th>36</th>\n",
       "      <td>paracetamol</td>\n",
       "      <td>Doctor_C</td>\n",
       "      <td>10.740406</td>\n",
       "    </tr>\n",
       "    <tr>\n",
       "      <th>37</th>\n",
       "      <td>paracetamol</td>\n",
       "      <td>Doctor_C</td>\n",
       "      <td>9.634784</td>\n",
       "    </tr>\n",
       "    <tr>\n",
       "      <th>38</th>\n",
       "      <td>paracetamol</td>\n",
       "      <td>Doctor_C</td>\n",
       "      <td>8.308719</td>\n",
       "    </tr>\n",
       "  </tbody>\n",
       "</table>\n",
       "</div>"
      ],
      "text/plain": [
       "            Drug    Doctor  Sales_in_100s\n",
       "0        Aspirin  Doctor_A      11.892117\n",
       "1        Aspirin  Doctor_A      18.620222\n",
       "2        Aspirin  Doctor_A      20.018923\n",
       "3        Aspirin  Doctor_A      10.971042\n",
       "4        Aspirin  Doctor_B      12.960602\n",
       "5        Aspirin  Doctor_B      17.009329\n",
       "6        Aspirin  Doctor_B      12.394139\n",
       "7        Aspirin  Doctor_B      13.749822\n",
       "8        Aspirin  Doctor_B       6.719919\n",
       "9        Aspirin  Doctor_C      11.754593\n",
       "10       Aspirin  Doctor_C      15.546368\n",
       "11       Aspirin  Doctor_C      13.814819\n",
       "12       Aspirin  Doctor_C      13.633182\n",
       "13  D-cold total  Doctor_A       7.087273\n",
       "14  D-cold total  Doctor_A       5.902641\n",
       "15  D-cold total  Doctor_A       5.165104\n",
       "16  D-cold total  Doctor_A       8.995683\n",
       "17  D-cold total  Doctor_B       6.340842\n",
       "18  D-cold total  Doctor_B      13.572966\n",
       "19  D-cold total  Doctor_B       8.406663\n",
       "20  D-cold total  Doctor_B      11.342215\n",
       "21  D-cold total  Doctor_B       9.075558\n",
       "22  D-cold total  Doctor_C       7.421431\n",
       "23  D-cold total  Doctor_C       4.427577\n",
       "24  D-cold total  Doctor_C       6.897875\n",
       "25  D-cold total  Doctor_C       9.239114\n",
       "26   paracetamol  Doctor_A      13.834945\n",
       "27   paracetamol  Doctor_A      11.417320\n",
       "28   paracetamol  Doctor_A       7.156741\n",
       "29   paracetamol  Doctor_A       7.831219\n",
       "30   paracetamol  Doctor_B      11.952496\n",
       "31   paracetamol  Doctor_B      11.442174\n",
       "32   paracetamol  Doctor_B      16.591409\n",
       "33   paracetamol  Doctor_B       7.813333\n",
       "34   paracetamol  Doctor_B      14.476128\n",
       "35   paracetamol  Doctor_C      13.643647\n",
       "36   paracetamol  Doctor_C      10.740406\n",
       "37   paracetamol  Doctor_C       9.634784\n",
       "38   paracetamol  Doctor_C       8.308719"
      ]
     },
     "execution_count": 44,
     "metadata": {},
     "output_type": "execute_result"
    }
   ],
   "source": [
    "df_twoway"
   ]
  },
  {
   "cell_type": "code",
   "execution_count": 46,
   "metadata": {},
   "outputs": [
    {
     "data": {
      "text/plain": [
       "Index(['Drug', 'Doctor', 'Sales_in_100s'], dtype='object')"
      ]
     },
     "execution_count": 46,
     "metadata": {},
     "output_type": "execute_result"
    }
   ],
   "source": [
    "df_twoway.columns"
   ]
  },
  {
   "cell_type": "code",
   "execution_count": 47,
   "metadata": {},
   "outputs": [
    {
     "data": {
      "text/plain": [
       "<matplotlib.axes._subplots.AxesSubplot at 0x22ef5aa7e10>"
      ]
     },
     "execution_count": 47,
     "metadata": {},
     "output_type": "execute_result"
    },
    {
     "data": {
      "image/png": "[encoded data removed]",
      "text/plain": [
       "<Figure size 432x288 with 1 Axes>"
      ]
     },
     "metadata": {
      "needs_background": "light"
     },
     "output_type": "display_data"
    }
   ],
   "source": [
    "import seaborn as sns\n",
    "sns.boxplot(x=\"Drug\", y=\"Sales_in_100s\", hue=\"Doctor\", data=df_twoway, palette=\"Set3\")"
   ]
  },
  {
   "cell_type": "code",
   "execution_count": 49,
   "metadata": {},
   "outputs": [
    {
     "name": "stderr",
     "output_type": "stream",
     "text": [
      "C:\\Users\\ppulivarthi\\AppData\\Local\\Continuum\\anaconda3\\lib\\site-packages\\statsmodels\\compat\\pandas.py:49: FutureWarning: The Panel class is removed from pandas. Accessing it from the top-level namespace will also be removed in the next version\n",
      "  data_klasses = (pandas.Series, pandas.DataFrame, pandas.Panel)\n"
     ]
    }
   ],
   "source": [
    "import statsmodels.api as sm"
   ]
  },
  {
   "cell_type": "code",
   "execution_count": 50,
   "metadata": {},
   "outputs": [],
   "source": [
    "from statsmodels.formula.api import ols"
   ]
  },
  {
   "cell_type": "code",
   "execution_count": 51,
   "metadata": {},
   "outputs": [
    {
     "data": {
      "text/html": [
       "<div>\n",
       "<style scoped>\n",
       "    .dataframe tbody tr th:only-of-type {\n",
       "        vertical-align: middle;\n",
       "    }\n",
       "\n",
       "    .dataframe tbody tr th {\n",
       "        vertical-align: top;\n",
       "    }\n",
       "\n",
       "    .dataframe thead th {\n",
       "        text-align: right;\n",
       "    }\n",
       "</style>\n",
       "<table border=\"1\" class=\"dataframe\">\n",
       "  <thead>\n",
       "    <tr style=\"text-align: right;\">\n",
       "      <th></th>\n",
       "      <th>sum_sq</th>\n",
       "      <th>df</th>\n",
       "      <th>F</th>\n",
       "      <th>PR(&gt;F)</th>\n",
       "    </tr>\n",
       "  </thead>\n",
       "  <tbody>\n",
       "    <tr>\n",
       "      <th>C(Drug)</th>\n",
       "      <td>218.140261</td>\n",
       "      <td>2.0</td>\n",
       "      <td>11.815445</td>\n",
       "      <td>0.000127</td>\n",
       "    </tr>\n",
       "    <tr>\n",
       "      <th>C(Doctor)</th>\n",
       "      <td>9.997003</td>\n",
       "      <td>2.0</td>\n",
       "      <td>0.541482</td>\n",
       "      <td>0.586820</td>\n",
       "    </tr>\n",
       "    <tr>\n",
       "      <th>Residual</th>\n",
       "      <td>313.859066</td>\n",
       "      <td>34.0</td>\n",
       "      <td>NaN</td>\n",
       "      <td>NaN</td>\n",
       "    </tr>\n",
       "  </tbody>\n",
       "</table>\n",
       "</div>"
      ],
      "text/plain": [
       "               sum_sq    df          F    PR(>F)\n",
       "C(Drug)    218.140261   2.0  11.815445  0.000127\n",
       "C(Doctor)    9.997003   2.0   0.541482  0.586820\n",
       "Residual   313.859066  34.0        NaN       NaN"
      ]
     },
     "execution_count": 51,
     "metadata": {},
     "output_type": "execute_result"
    }
   ],
   "source": [
    "model = ols(' Sales_in_100s ~ C(Drug) + C(Doctor)', data=df_twoway).fit()\n",
    "anova_table = sm.stats.anova_lm(model, typ=2)\n",
    "anova_table"
   ]
  },
  {
   "cell_type": "code",
   "execution_count": 52,
   "metadata": {},
   "outputs": [
    {
     "name": "stdout",
     "output_type": "stream",
     "text": [
      "*****************  Reject the Null Hypothesis ************* \n",
      " At least, one group mean is different from other groups \n",
      "\n"
     ]
    }
   ],
   "source": [
    "alpha = 0.05\n",
    "Drug=0.000127\n",
    "\n",
    "if Drug <= alpha: \n",
    "    print(\"*****************  Reject the Null Hypothesis ************* \\n At least, one group mean is different from other groups \\n\") \n",
    "else: \n",
    "    print(\"*****************  Accept the Null Hypothesis ************* \\n Groups means are equal (no variation in means of groups)  \\n\")"
   ]
  },
  {
   "cell_type": "code",
   "execution_count": 53,
   "metadata": {},
   "outputs": [
    {
     "name": "stdout",
     "output_type": "stream",
     "text": [
      "*****************  Accept the Null Hypothesis ************* \n",
      " Groups means are equal (no variation in means of groups)  \n",
      "\n"
     ]
    }
   ],
   "source": [
    "alpha = 0.05\n",
    "Doctor=0.586820\n",
    "\n",
    "if Doctor <= alpha: \n",
    "    print(\"*****************  Reject the Null Hypothesis ************* \\n At least, one group mean is different from other groups \\n\") \n",
    "else: \n",
    "    print(\"*****************  Accept the Null Hypothesis ************* \\n Groups means are equal (no variation in means of groups)  \\n\")"
   ]
  },
  {
   "cell_type": "markdown",
   "metadata": {},
   "source": [
    "# ANOVA -Interactions"
   ]
  },
  {
   "cell_type": "code",
   "execution_count": 54,
   "metadata": {},
   "outputs": [
    {
     "data": {
      "text/html": [
       "<div>\n",
       "<style scoped>\n",
       "    .dataframe tbody tr th:only-of-type {\n",
       "        vertical-align: middle;\n",
       "    }\n",
       "\n",
       "    .dataframe tbody tr th {\n",
       "        vertical-align: top;\n",
       "    }\n",
       "\n",
       "    .dataframe thead th {\n",
       "        text-align: right;\n",
       "    }\n",
       "</style>\n",
       "<table border=\"1\" class=\"dataframe\">\n",
       "  <thead>\n",
       "    <tr style=\"text-align: right;\">\n",
       "      <th></th>\n",
       "      <th>sum_sq</th>\n",
       "      <th>df</th>\n",
       "      <th>F</th>\n",
       "      <th>PR(&gt;F)</th>\n",
       "    </tr>\n",
       "  </thead>\n",
       "  <tbody>\n",
       "    <tr>\n",
       "      <th>C(Drug)</th>\n",
       "      <td>218.140261</td>\n",
       "      <td>2.0</td>\n",
       "      <td>12.276084</td>\n",
       "      <td>0.000127</td>\n",
       "    </tr>\n",
       "    <tr>\n",
       "      <th>C(Doctor)</th>\n",
       "      <td>9.997003</td>\n",
       "      <td>2.0</td>\n",
       "      <td>0.562592</td>\n",
       "      <td>0.575625</td>\n",
       "    </tr>\n",
       "    <tr>\n",
       "      <th>C(Drug):C(Doctor)</th>\n",
       "      <td>47.316085</td>\n",
       "      <td>4.0</td>\n",
       "      <td>1.331382</td>\n",
       "      <td>0.281115</td>\n",
       "    </tr>\n",
       "    <tr>\n",
       "      <th>Residual</th>\n",
       "      <td>266.542980</td>\n",
       "      <td>30.0</td>\n",
       "      <td>NaN</td>\n",
       "      <td>NaN</td>\n",
       "    </tr>\n",
       "  </tbody>\n",
       "</table>\n",
       "</div>"
      ],
      "text/plain": [
       "                       sum_sq    df          F    PR(>F)\n",
       "C(Drug)            218.140261   2.0  12.276084  0.000127\n",
       "C(Doctor)            9.997003   2.0   0.562592  0.575625\n",
       "C(Drug):C(Doctor)   47.316085   4.0   1.331382  0.281115\n",
       "Residual           266.542980  30.0        NaN       NaN"
      ]
     },
     "execution_count": 54,
     "metadata": {},
     "output_type": "execute_result"
    }
   ],
   "source": [
    "model = ols(' Sales_in_100s ~ C(Drug) + C(Doctor) + C(Drug):C(Doctor)', data=df_twoway).fit()\n",
    "anova_table = sm.stats.anova_lm(model, typ=2)\n",
    "anova_table"
   ]
  },
  {
   "cell_type": "code",
   "execution_count": 55,
   "metadata": {},
   "outputs": [
    {
     "name": "stdout",
     "output_type": "stream",
     "text": [
      "*****************  Accept the Null Hypothesis ************* \n",
      " Groups means are equal (no variation in means of groups)  \n",
      "\n"
     ]
    }
   ],
   "source": [
    "alpha = 0.05\n",
    "Drug_Doctor=0.281115\n",
    "\n",
    "if Drug_Doctor <= alpha: \n",
    "    print(\"*****************  Reject the Null Hypothesis ************* \\n At least, one group mean is different from other groups \\n\") \n",
    "else: \n",
    "    print(\"*****************  Accept the Null Hypothesis ************* \\n Groups means are equal (no variation in means of groups)  \\n\")"
   ]
  }
 ],
 "metadata": {
  "kernelspec": {
   "display_name": "paramatma",
   "language": "python",
   "name": "paramatma"
  },
  "language_info": {
   "codemirror_mode": {
    "name": "ipython",
    "version": 3
   },
   "file_extension": ".py",
   "mimetype": "text/x-python",
   "name": "python",
   "nbconvert_exporter": "python",
   "pygments_lexer": "ipython3",
   "version": "3.7.1"
  }
 },
 "nbformat": 4,
 "nbformat_minor": 2
}
