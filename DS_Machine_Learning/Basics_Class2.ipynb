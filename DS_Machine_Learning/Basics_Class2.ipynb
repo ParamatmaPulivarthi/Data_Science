{
 "cells": [
  {
   "cell_type": "markdown",
   "metadata": {},
   "source": [
    "# Conditions"
   ]
  },
  {
   "cell_type": "markdown",
   "metadata": {},
   "source": [
    "## if condition"
   ]
  },
  {
   "cell_type": "code",
   "execution_count": null,
   "metadata": {},
   "outputs": [],
   "source": [
    "# syntax:\n",
    "if condition:\n",
    "    <expression>\n",
    "    <...   ...>"
   ]
  },
  {
   "cell_type": "code",
   "execution_count": null,
   "metadata": {},
   "outputs": [],
   "source": [
    "variable\n",
    "value\n",
    "assign operators\n",
    "variable operator value"
   ]
  },
  {
   "cell_type": "code",
   "execution_count": 40,
   "metadata": {},
   "outputs": [],
   "source": [
    "import matplotlib.image as mpimg \n",
    "import matplotlib.pyplot as plt\n",
    "# Read Images \n",
    "img = mpimg.imread('pic_for_conditions.png') "
   ]
  },
  {
   "cell_type": "code",
   "execution_count": 41,
   "metadata": {},
   "outputs": [
    {
     "data": {
      "text/plain": [
       "<matplotlib.image.AxesImage at 0x2ab18fec1d0>"
      ]
     },
     "execution_count": 41,
     "metadata": {},
     "output_type": "execute_result"
    },
    {
     "data": {
      "image/png": "[encoded data removed]",
      "text/plain": [
       "<Figure size 432x288 with 1 Axes>"
      ]
     },
     "metadata": {
      "needs_background": "light"
     },
     "output_type": "display_data"
    }
   ],
   "source": [
    "img = mpimg.imread('pic_for_conditions.png')   \n",
    "# Output Images \n",
    "plt.imshow(img)"
   ]
  },
  {
   "cell_type": "code",
   "execution_count": null,
   "metadata": {},
   "outputs": [],
   "source": [
    "# scenario : print sales >50 as weekend sales "
   ]
  },
  {
   "cell_type": "code",
   "execution_count": 43,
   "metadata": {},
   "outputs": [
    {
     "name": "stdout",
     "output_type": "stream",
     "text": [
      "weekend sales\n"
     ]
    }
   ],
   "source": [
    "sales=60\n",
    "if sales > 50 :\n",
    "   print(\"weekend sales\")"
   ]
  },
  {
   "cell_type": "code",
   "execution_count": 44,
   "metadata": {},
   "outputs": [
    {
     "name": "stdout",
     "output_type": "stream",
     "text": [
      "weekend sales\n"
     ]
    }
   ],
   "source": [
    "sales=10\n",
    "if sales < 50 :\n",
    "   print(\"weekend sales\")"
   ]
  },
  {
   "cell_type": "markdown",
   "metadata": {},
   "source": [
    "# #if else"
   ]
  },
  {
   "cell_type": "code",
   "execution_count": null,
   "metadata": {},
   "outputs": [],
   "source": [
    "# Syntax:\n",
    "if condition:\n",
    "    <statements>\n",
    "    <....   ....>\n",
    "else:\n",
    "    <statements>\n",
    "    <....   ...>"
   ]
  },
  {
   "cell_type": "code",
   "execution_count": null,
   "metadata": {},
   "outputs": [],
   "source": [
    "# scenario : print sale >50 as weekend sales, otherwise as weekday sales "
   ]
  },
  {
   "cell_type": "code",
   "execution_count": 45,
   "metadata": {},
   "outputs": [
    {
     "name": "stdout",
     "output_type": "stream",
     "text": [
      "weekend sale\n"
     ]
    }
   ],
   "source": [
    "sale=80\n",
    "if sale>50:\n",
    "    print(\"weekend sale\")\n",
    "else:\n",
    "    print(\"weekday sales\")\n"
   ]
  },
  {
   "cell_type": "code",
   "execution_count": 46,
   "metadata": {},
   "outputs": [
    {
     "name": "stdout",
     "output_type": "stream",
     "text": [
      "weekday sales\n"
     ]
    }
   ],
   "source": [
    "sale=40\n",
    "if sale>50:\n",
    "    print(\"weekend sale\")\n",
    "else:\n",
    "    print(\"weekday sales\")\n"
   ]
  },
  {
   "cell_type": "code",
   "execution_count": null,
   "metadata": {},
   "outputs": [],
   "source": []
  },
  {
   "cell_type": "markdown",
   "metadata": {},
   "source": [
    "## if elif else"
   ]
  },
  {
   "cell_type": "code",
   "execution_count": null,
   "metadata": {},
   "outputs": [],
   "source": [
    "# Syntax:\n",
    "if condition:\n",
    "    <statements>\n",
    "    <....   ....>\n",
    "elif condition:\n",
    "    <statements>\n",
    "    <....   ....>    \n",
    "else:\n",
    "    <statements>\n",
    "    <....   ...>"
   ]
  },
  {
   "cell_type": "code",
   "execution_count": null,
   "metadata": {},
   "outputs": [],
   "source": [
    "# scenario : print sale <15 as \"not met average sales\",\n",
    "# sale >=15 & <=20 \"met average sales\",\n",
    "# sale >20 as \"profit sales\""
   ]
  },
  {
   "cell_type": "code",
   "execution_count": 48,
   "metadata": {},
   "outputs": [
    {
     "name": "stdout",
     "output_type": "stream",
     "text": [
      "met average sales\n"
     ]
    }
   ],
   "source": [
    "sale=80\n",
    "if sale<15:\n",
    "    print(\"not met average sales\")\n",
    "elif sale>=15 or sale<=20:\n",
    "    print(\"met average sales\")\n",
    "else:\n",
    "    print(\"profit sales\")"
   ]
  },
  {
   "cell_type": "code",
   "execution_count": null,
   "metadata": {},
   "outputs": [],
   "source": [
    "10,20,30"
   ]
  },
  {
   "cell_type": "code",
   "execution_count": 49,
   "metadata": {},
   "outputs": [
    {
     "name": "stdout",
     "output_type": "stream",
     "text": [
      "profit sales\n"
     ]
    }
   ],
   "source": [
    "sale=80\n",
    "if sale<15:\n",
    "    print(\"not met average sales\")\n",
    "elif sale>=15 and sale<=20:\n",
    "    print(\"met average sales\")\n",
    "else:\n",
    "    print(\"profit sales\")"
   ]
  },
  {
   "cell_type": "markdown",
   "metadata": {},
   "source": [
    "# Loops"
   ]
  },
  {
   "cell_type": "markdown",
   "metadata": {},
   "source": [
    "## for loop"
   ]
  },
  {
   "cell_type": "code",
   "execution_count": null,
   "metadata": {},
   "outputs": [],
   "source": [
    "# syntax:\n",
    "for expression:\n",
    "    <statements>"
   ]
  },
  {
   "cell_type": "code",
   "execution_count": null,
   "metadata": {},
   "outputs": [],
   "source": [
    "# [\"KKR\",\"MI\",\"CSK\",\"RCB\",\"KXIIP\",\"RR\",\"SRH\",\"DC\"]"
   ]
  },
  {
   "cell_type": "code",
   "execution_count": 50,
   "metadata": {},
   "outputs": [],
   "source": [
    "lst=[\"KKR\",\"MI\",\"CSK\",\"RCB\",\"KXIIP\",\"RR\",\"SRH\",\"DC\"]"
   ]
  },
  {
   "cell_type": "code",
   "execution_count": 51,
   "metadata": {},
   "outputs": [
    {
     "name": "stdout",
     "output_type": "stream",
     "text": [
      "KKR\n",
      "MI\n",
      "CSK\n",
      "RCB\n",
      "KXIIP\n",
      "RR\n",
      "SRH\n",
      "DC\n"
     ]
    }
   ],
   "source": [
    "lst=[\"KKR\",\"MI\",\"CSK\",\"RCB\",\"KXIIP\",\"RR\",\"SRH\",\"DC\"]\n",
    "for p in lst:\n",
    "    print(p)"
   ]
  },
  {
   "cell_type": "code",
   "execution_count": 52,
   "metadata": {},
   "outputs": [
    {
     "name": "stdout",
     "output_type": "stream",
     "text": [
      "KKR\n",
      "MI\n",
      "CSK\n",
      "RCB\n",
      "KXIIP\n",
      "RR\n",
      "SRH\n",
      "DC\n"
     ]
    }
   ],
   "source": [
    "tup=(\"KKR\",\"MI\",\"CSK\",\"RCB\",\"KXIIP\",\"RR\",\"SRH\",\"DC\")\n",
    "for p in tup:\n",
    "    print(p)"
   ]
  },
  {
   "cell_type": "code",
   "execution_count": 53,
   "metadata": {},
   "outputs": [
    {
     "name": "stdout",
     "output_type": "stream",
     "text": [
      "MI\n",
      "RR\n",
      "DC\n",
      "RCB\n",
      "KKR\n",
      "SRH\n",
      "CSK\n",
      "KXIIP\n"
     ]
    }
   ],
   "source": [
    "sett={\"KKR\",\"MI\",\"CSK\",\"RCB\",\"KXIIP\",\"RR\",\"SRH\",\"DC\"}\n",
    "for p in sett:\n",
    "    print(p)"
   ]
  },
  {
   "cell_type": "code",
   "execution_count": 54,
   "metadata": {},
   "outputs": [
    {
     "name": "stdout",
     "output_type": "stream",
     "text": [
      "KKR\n",
      "MI\n",
      "CSK\n",
      "RCB\n",
      "KXIIP\n",
      "RR\n",
      "SRH\n",
      "DC\n"
     ]
    }
   ],
   "source": [
    "dictt={\"IPL_Teams\":[\"KKR\",\"MI\",\"CSK\",\"RCB\",\"KXIIP\",\"RR\",\"SRH\",\"DC\"]}\n",
    "for p in dictt[\"IPL_Teams\"]:\n",
    "    print(p)"
   ]
  },
  {
   "cell_type": "code",
   "execution_count": 56,
   "metadata": {},
   "outputs": [
    {
     "name": "stdout",
     "output_type": "stream",
     "text": [
      "IPL_Teams\n",
      "first_score\n"
     ]
    }
   ],
   "source": [
    "dictt={\"IPL_Teams\":[\"KKR\",\"MI\",\"CSK\",\"RCB\",\"KXIIP\",\"RR\",\"SRH\",\"DC\"],\"first_score\": [10,20,40,50,60,70,80]}\n",
    "for p in dictt:\n",
    "    print(p)"
   ]
  },
  {
   "cell_type": "code",
   "execution_count": null,
   "metadata": {},
   "outputs": [],
   "source": [
    "# range\n",
    "\n",
    "range(start point,end point,increment point)\n",
    "range(0,10)\n",
    "range(0,10,5)\n",
    "range(0,10,1)\n",
    "range(10)"
   ]
  },
  {
   "cell_type": "code",
   "execution_count": 57,
   "metadata": {},
   "outputs": [
    {
     "name": "stdout",
     "output_type": "stream",
     "text": [
      "0\n",
      "1\n",
      "2\n",
      "3\n",
      "4\n",
      "5\n",
      "6\n",
      "7\n",
      "8\n",
      "9\n"
     ]
    }
   ],
   "source": [
    "for p in range(0,10,1):\n",
    "    print(p)"
   ]
  },
  {
   "cell_type": "code",
   "execution_count": 58,
   "metadata": {},
   "outputs": [
    {
     "name": "stdout",
     "output_type": "stream",
     "text": [
      "0\n",
      "1\n",
      "2\n",
      "3\n",
      "4\n",
      "5\n",
      "6\n",
      "7\n",
      "8\n",
      "9\n"
     ]
    }
   ],
   "source": [
    "for p in range(0,10):\n",
    "    print(p)"
   ]
  },
  {
   "cell_type": "code",
   "execution_count": 59,
   "metadata": {},
   "outputs": [
    {
     "name": "stdout",
     "output_type": "stream",
     "text": [
      "0\n",
      "1\n",
      "2\n",
      "3\n",
      "4\n",
      "5\n",
      "6\n",
      "7\n",
      "8\n",
      "9\n"
     ]
    }
   ],
   "source": [
    "for p in range(10):\n",
    "    print(p)"
   ]
  },
  {
   "cell_type": "code",
   "execution_count": 60,
   "metadata": {},
   "outputs": [
    {
     "name": "stdout",
     "output_type": "stream",
     "text": [
      "5\n",
      "7\n",
      "9\n"
     ]
    }
   ],
   "source": [
    "for p in range(5,10,2):\n",
    "    print(p)"
   ]
  },
  {
   "cell_type": "code",
   "execution_count": 61,
   "metadata": {},
   "outputs": [
    {
     "name": "stdout",
     "output_type": "stream",
     "text": [
      "5\n",
      "6\n",
      "7\n",
      "8\n",
      "9\n"
     ]
    }
   ],
   "source": [
    "for p in range(5,10):\n",
    "    print(p)"
   ]
  },
  {
   "cell_type": "code",
   "execution_count": 64,
   "metadata": {},
   "outputs": [
    {
     "name": "stdout",
     "output_type": "stream",
     "text": [
      "0\n",
      "6\n",
      "12\n",
      "18\n",
      "24\n",
      "30\n",
      "36\n",
      "42\n",
      "48\n",
      "54\n"
     ]
    }
   ],
   "source": [
    "for p in range(0,60,6):\n",
    "    print(p)"
   ]
  },
  {
   "cell_type": "code",
   "execution_count": null,
   "metadata": {},
   "outputs": [],
   "source": [
    "import pandas\n",
    "import pandas as pd"
   ]
  },
  {
   "cell_type": "code",
   "execution_count": 65,
   "metadata": {},
   "outputs": [],
   "source": [
    "import pandas"
   ]
  },
  {
   "cell_type": "code",
   "execution_count": null,
   "metadata": {},
   "outputs": [],
   "source": [
    "from libraby import librvaluefunc"
   ]
  },
  {
   "cell_type": "code",
   "execution_count": null,
   "metadata": {},
   "outputs": [],
   "source": []
  }
 ],
 "metadata": {
  "kernelspec": {
   "display_name": "paramatma",
   "language": "python",
   "name": "paramatma"
  },
  "language_info": {
   "codemirror_mode": {
    "name": "ipython",
    "version": 3
   },
   "file_extension": ".py",
   "mimetype": "text/x-python",
   "name": "python",
   "nbconvert_exporter": "python",
   "pygments_lexer": "ipython3",
   "version": "3.7.1"
  }
 },
 "nbformat": 4,
 "nbformat_minor": 2
}
